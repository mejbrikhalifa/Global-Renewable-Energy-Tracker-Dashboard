{
 "cells": [
  {
   "cell_type": "markdown",
   "id": "6069c41f-ba7d-41dc-813a-e9f7e226c9ca",
   "metadata": {},
   "source": [
    "# **<span style=\"font-size:30px; color:purple;\">Global Renewable Energy Tracker: Analysis of the State Around the World</span>**\n",
    "#### A project realised by **Dr-eng.: Khalifa Mejbri, Expert in Engineering, Data Science and Machine Learning.**"
   ]
  },
  {
   "cell_type": "markdown",
   "id": "5bb37792-2992-4cb0-af2d-d0a6b8d0225f",
   "metadata": {},
   "source": [
    "### **<span style=\"font-size:22px; color:Blue;\">Introduction</span>**\n",
    "The global push toward sustainable energy is more urgent than ever, driven by the escalating threats of climate change, fossil fuel dependency, and the need for equitable access to clean energy. As countries commit to ambitious carbon reduction targets, renewable energy—especially wind and solar power—has emerged as a cornerstone of the transition. However, the pace of adoption, type of technology, and level of investment vary widely across regions.\n",
    "\n",
    "This project, **“Global Renewable Energy Tracker,”** aims to provide a comprehensive, data-driven analysis of the current state of renewable energy development around the world. It leverages authoritative datasets from the **International Energy Agency (IEA)** and the **Global Renewable Energy Tracker (June 2024 release)** by **Global Energy Monitor**, licensed under Creative Commons Attribution 4.0 International License."
   ]
  },
  {
   "cell_type": "markdown",
   "id": "4d409c5d-adcd-426b-b1a3-5f1505465604",
   "metadata": {},
   "source": [
    "### **<span style=\"font-size:22px; color:Blue;\">Motivation</span>**\n",
    "While interest in renewable energy is accelerating, stakeholders—including policymakers, investors, researchers, and environmental advocates—face a common challenge: **the lack of centralized, visual insight into the global distribution, capacity, and status of renewable energy projects**. This project is motivated by the need to consolidate credible data sources and transform them into actionable insights that can support climate strategy, investment decisions, and international collaboration."
   ]
  },
  {
   "cell_type": "markdown",
   "id": "60b3b4b4-c46d-4bcf-8691-4d9b57622d11",
   "metadata": {},
   "source": [
    "### **<span style=\"font-size:22px; color:Blue;\">Problem Statement</span>**\n",
    "Despite the abundance of renewable energy data, accessing and interpreting this information remains complex and fragmented. Key questions remain difficult to answer at a glance, such as:\n",
    "* Which countries are leading or lagging in renewable energy deployment?\n",
    "* What technologies are being adopted and where?\n",
    "* How do project statuses (operational, under construction, proposed) vary geographically?\n",
    "* What trends are shaping the future of global clean energy?\n",
    "\n",
    "This project addresses these challenges by cleaning, analyzing, and visualizing global renewable energy data in an accessible and interactive way."
   ]
  },
  {
   "cell_type": "markdown",
   "id": "75430084-5c85-4551-9771-c2fa90ea298f",
   "metadata": {},
   "source": [
    "### **<span style=\"font-size:22px; color:Blue;\">Methodology</span>**\n",
    "#### **Data Preparation:**\n",
    "Using **Python (Pandas, NumPy, GeoPandas)**, raw datasets will be cleaned, merged, and structured. Key features such as capacity (MW), technology type, country, and project status will be extracted and standardized.\n",
    "\n",
    "#### **Visualization and Dashboarding:**\n",
    "An interactive **dashboard will be built in Tableau** to:\n",
    "A Tableau dashboard will be developed to:\n",
    "* Visualize renewable energy capacity by country and region.\n",
    "* Highlight dominant technologies (e.g., wind, solar).\n",
    "* Show the status and growth trajectory of projects over time.\n",
    "* Enable comparative analysis across nations and continents."
   ]
  },
  {
   "cell_type": "markdown",
   "id": "1ca08936-1162-4d6c-9905-83ba48d27c62",
   "metadata": {},
   "source": [
    "## **<span style=\"font-size:22px; color:Blue;\">Expected Outcomes</span>**\n",
    "The final output will be an interactive Tableau dashboard and analytical report that:\n",
    "* Tracks and compares renewable energy development globally.\n",
    "* Highlights emerging markets and underdeveloped regions.\n",
    "* Supports data-informed decision-making for energy policy and investment.\n",
    "* Contributes to transparency and public understanding of the global energy transition."
   ]
  },
  {
   "cell_type": "markdown",
   "id": "903be01d-b95a-4cb9-8d45-02139e49fb14",
   "metadata": {},
   "source": [
    "### **<span style=\"font-size:22px; color:Blue;\">Data Sources</span>**\n",
    "* **International Energy Agency – Renewable Energy Database (June 2024)**\n",
    "* **Global Energy Monitor – Global Wind Power Tracker (June 2024 Release)**\n",
    "\n",
    "    Copyright © Global Energy Monitor.\n",
    "  \n",
    "    Licensed under the Creative Commons Attribution 4.0 International License."
   ]
  },
  {
   "cell_type": "markdown",
   "id": "87e75828-8590-440d-8751-6426cdea483c",
   "metadata": {},
   "source": [
    "## **<span style=\"font-size:26px; color:Gray;\">First part: Data Preprocessing</span>**"
   ]
  },
  {
   "cell_type": "markdown",
   "id": "d1ccda20",
   "metadata": {},
   "source": [
    "## **<span style=\"font-size:25px; color:Green;\">Data Description</span>**\n",
    "Renewable Energy farm projects smaller than 1 MW are not included. Aggregated data of below 1 MW projects has been removed.\n",
    "\n",
    "#### **Status:**\n",
    "* **operating:** Commercial operation date achieved.\n",
    "* **construction:** Equipment installation has begun (not just clearing/roads).\n",
    "* **pre-construction:** Projects that are actively moving forward in seeking governmental approvals, land rights, or financing\n",
    "* **announced:** Projects that been publicly reported but have not yet moved actively forward by applying for permits or seeking land, material, or financing. Examples: (1) projects are the potential “Phase 2” at a location where “Phase 1” is currently under development, (2) Projects that are described in long-range company or governmental planning documents.\n",
    "* **shelved:** Suspension announced. The status is marked as \"shelved - inferred 2y\" if no updates have been published in 2 or more years.\n",
    "* **mothballed:** Disused but not dismantled.\n",
    "* **retired:** Dismantled.\n",
    "* **cancelled:** Cancellation announced. The status is marked as \"cancelled - inferred 4y\" if no updates have been published in 4 or more years.\n",
    "\n",
    "#### **Date Last Researched**: [yyyy/mm/dd]\n",
    "* Date that this project was last researched by the researcher.\n",
    "#### **Country/Area**\n",
    "* Country or area the project is located in (Unabbreviated).\n",
    "#### **Project Name**\n",
    "* Commonly used name.\n",
    "#### **Phase Name**\n",
    "* Common name of the project phase.\n",
    "#### **Project Name in Local Language / Script**\n",
    "* Commonly used name in the locally used script.\n",
    "#### **Other Name(s)**\n",
    "* Alternative names, including the name in local script.\n",
    "#### **Capacity (MW)**: [MW]\n",
    "* Nameplate capacity, or best available data, of the phase in megawatts rounded to its nearest tenth.\n",
    "#### **Capacity Rating**: MWac, MWp/dc, unknown\n",
    "* The reported capacity rating, unknown selected if not provided.\n",
    "#### **Installation Type**: onshore, offshore hard mount, offshore floating, offshore mount unknown\n",
    "* How the wind turbines are installed. Hard mount vs floating is dependant on the depth of the water.\n",
    "#### **Start year**: yyyy\n",
    "* Year the project is or is expected to be commissioned. Latest date was taken when original data source provided a range; Start years not included for projects that are cancelled or shelved.\n",
    "#### **Retired year**: yyyy\n",
    "* Year the plant is taken offline. This includes mothballed plants - whenever the unit stops operating.\n",
    "#### **Retired year**: yyyy\n",
    "* Year the plant is taken offline. This includes mothballed plants - whenever the unit stops operating.\n",
    "#### **Operator**\n",
    "* The company that operates the project. Company that performs day-to-day operations and maintenance of the project.\n",
    "#### **Operator Name in Local Language / Script**\n",
    "* Company name that operates the project in the locally used script.\n",
    "#### **Owner**\n",
    "* The company that directly owns the plant.\n",
    "#### **Owner Name in Local Language / Script**\n",
    "* TCompany name that directly owns the project in the locally used script.\n",
    "#### **Hydrogen**: True, blank\n",
    "* True if a project phase is dedicated for green hydrogen production.\n",
    "#### **Latitude**\n",
    "* Latitude, assumed WGS84 (google maps), of the project phase.\n",
    "#### **Longitude**\n",
    "* Longitude, assumed WGS84 (google maps), of the project phase.\n",
    "#### **Location occuracy**: approximate, exact\n",
    "* Location is Approximate based on using nearest city or other information in data sources, or Location is Exact when explicitly provided in data source.\n",
    "#### **City**\n",
    "* City, town, village, or township (China) where project is located.\n",
    "#### **Local area (taluk, county)**\n",
    "* County, taluk, or district (China) where project is located.\n",
    "#### **Major area (prefecture, district)**\n",
    "* Prefecture, district, or municipality (China) where project is located.\n",
    "#### **State/Province**\n",
    "* Subnational unit where project is located.\n",
    "#### **Subregion**\n",
    "* Subregion location based on United Nations definition.\n",
    "#### **Region**\n",
    "* Region location based on United Nations definition.\n",
    "#### **Other IDs (location)**\n",
    "* Location identifier from external datasets.\n",
    "#### **Other IDs (unit/phase)**\n",
    "* Unit or Phase identifier from external datasets.\n",
    "#### **GEM location ID**: L1+11 digits\n",
    "* GEM generated ID unique for each project. Previous GEM ID numbers have been preserved. For example, a previous GEM ID of L812345 is now L100000812345.\n",
    "#### **GEM phase ID**: G1+11 digits\n",
    "* GEM generated ID unique for each phase. Previous GEM ID numbers have been preserved. For example, a previous GEM ID of G812345 is now G100000812345..\n",
    "#### **Wiki URL**\n",
    "* URL of existing, footnoted factsheet GEM.wiki page."
   ]
  },
  {
   "cell_type": "markdown",
   "id": "dirty-island",
   "metadata": {
    "id": "dirty-island"
   },
   "source": [
    "## **<span style=\"font-size:25px; color:Green;\">Importing Necessary Libraries</span>**"
   ]
  },
  {
   "cell_type": "code",
   "execution_count": 2,
   "id": "statewide-still",
   "metadata": {
    "id": "statewide-still"
   },
   "outputs": [],
   "source": [
    "# Libraries to help with reading and manipulating data\n",
    "import pandas as pd\n",
    "import numpy as np\n",
    "\n",
    "# Libaries to help with data visualization\n",
    "import matplotlib.pyplot as plt\n",
    "import seaborn as sns\n",
    "sns.set()\n",
    "\n",
    "# Code to ignore warnings from function usage\n",
    "import warnings\n",
    "warnings.filterwarnings('ignore')"
   ]
  },
  {
   "cell_type": "markdown",
   "id": "70dc105e",
   "metadata": {},
   "source": [
    "## **<span style=\"font-size:25px; color:Green;\">Importing the Databases</span>**"
   ]
  },
  {
   "cell_type": "markdown",
   "id": "a7da4ea1-c6b3-45b1-8bb9-70a14e8d8746",
   "metadata": {},
   "source": [
    "### **Solar Energy database**\n",
    "* **S_data1 : Solar power plants with capacities higher than 20 MW.**\n",
    "* **S_data2 : Solar power plants with capacities between 1 MW and 20 MW.**"
   ]
  },
  {
   "cell_type": "code",
   "execution_count": 3,
   "id": "c6a45f38",
   "metadata": {},
   "outputs": [],
   "source": [
    "S_data1 = pd.read_excel(\"C:/Disc D/DataScienceTraining/Energy_database/Solar_Power1.xlsx\")\n",
    "S_data2 = pd.read_excel(\"C:/Disc D/DataScienceTraining/Energy_database/Solar_Power2.xlsx\")"
   ]
  },
  {
   "cell_type": "markdown",
   "id": "3b949fda",
   "metadata": {},
   "source": [
    "#### **Combination of the two dataframe files into one file called Solar_data**"
   ]
  },
  {
   "cell_type": "code",
   "execution_count": 14,
   "id": "82a3318d",
   "metadata": {},
   "outputs": [],
   "source": [
    "Solar_data = pd.concat([S_data2, S_data1], ignore_index = True)"
   ]
  },
  {
   "cell_type": "markdown",
   "id": "e3338dde",
   "metadata": {},
   "source": [
    "### **Wind Energy database**\n",
    "* **W_data1 : Wind power farms with capacities higher than 20 MW.**\n",
    "* **W_data2 : Wind power farms with capacities between 1 MW and 20 MW.**"
   ]
  },
  {
   "cell_type": "code",
   "execution_count": 5,
   "id": "ce541bb5",
   "metadata": {},
   "outputs": [],
   "source": [
    "W_data1 = pd.read_excel(\"C:/Disc D/DataScienceTraining/Energy_database/Wind_Power1.xlsx\")\n",
    "W_data2 = pd.read_excel(\"C:/Disc D/DataScienceTraining/Energy_database/Wind_Power2.xlsx\")"
   ]
  },
  {
   "cell_type": "markdown",
   "id": "66c6bc2c",
   "metadata": {},
   "source": [
    "#### **Combination of the two dataframe files into one file called Wind_data**"
   ]
  },
  {
   "cell_type": "code",
   "execution_count": 6,
   "id": "986cdba7",
   "metadata": {},
   "outputs": [],
   "source": [
    "Wind_data = pd.concat([W_data2, W_data1], ignore_index = True)"
   ]
  },
  {
   "cell_type": "markdown",
   "id": "325821b1",
   "metadata": {},
   "source": [
    "### **Hydro-Energy database**\n",
    "* **H_data1 : hydropower plants with capacities higher than 75 MW.**\n",
    "* **H_data2 : hydropower plants with capacities between 10 MW and 75 MW.**"
   ]
  },
  {
   "cell_type": "code",
   "execution_count": 4,
   "id": "3adb7f41",
   "metadata": {},
   "outputs": [],
   "source": [
    "H_data1 = pd.read_excel(\"C:/Disc D/DataScienceTraining/Energy_database/Hydro_Power1.xlsx\")\n",
    "H_data2 = pd.read_excel(\"C:/Disc D/DataScienceTraining/Energy_database/Hydro_Power2.xlsx\")"
   ]
  },
  {
   "cell_type": "markdown",
   "id": "b645fd50",
   "metadata": {},
   "source": [
    "#### **Combination of the two dataframe files into one file called Hydro_data**"
   ]
  },
  {
   "cell_type": "code",
   "execution_count": 7,
   "id": "db9dd74a",
   "metadata": {},
   "outputs": [],
   "source": [
    "Hydro_data = pd.concat([H_data1, H_data2], ignore_index = True)"
   ]
  },
  {
   "cell_type": "markdown",
   "id": "4d772208",
   "metadata": {},
   "source": [
    "### **Geothermal-Energy database**\n",
    "* **G_data1 : Geothermal power plants with capacities higher than 30 MW.**\n",
    "* **G_data2 : Geothermal power plants with capacities between 1 MW and 30 MW.**"
   ]
  },
  {
   "cell_type": "code",
   "execution_count": 8,
   "id": "48f1a0cd",
   "metadata": {},
   "outputs": [],
   "source": [
    "G_data1 = pd.read_excel(\"C:/Disc D/DataScienceTraining/Energy_database/Geoth_Power1.xlsx\")\n",
    "G_data2 = pd.read_excel(\"C:/Disc D/DataScienceTraining/Energy_database/Geoth_Power2.xlsx\")"
   ]
  },
  {
   "cell_type": "markdown",
   "id": "11a21cff",
   "metadata": {},
   "source": [
    "#### **Combination of the two dataframe files into one file called Geoth_data**"
   ]
  },
  {
   "cell_type": "code",
   "execution_count": 9,
   "id": "55f692c1",
   "metadata": {},
   "outputs": [],
   "source": [
    "Geoth_data = pd.concat([G_data1, G_data2], ignore_index = True)"
   ]
  },
  {
   "cell_type": "markdown",
   "id": "cd5e8488",
   "metadata": {},
   "source": [
    "### **Bioenergy database**\n",
    "* **B_data1 : Bioenergy plants with capacities higher than 30 MW.**\n",
    "* **B_data2 : Bioenergy power plants with capacities between 1 MW and 30 MW.**"
   ]
  },
  {
   "cell_type": "code",
   "execution_count": 10,
   "id": "002baa94",
   "metadata": {},
   "outputs": [],
   "source": [
    "B_data1 = pd.read_excel(\"C:/Disc D/DataScienceTraining/Energy_database/Bioenergy1.xlsx\")\n",
    "B_data2 = pd.read_excel(\"C:/Disc D/DataScienceTraining/Energy_database/Bioenergy2.xlsx\")"
   ]
  },
  {
   "cell_type": "markdown",
   "id": "f3a48733",
   "metadata": {},
   "source": [
    "#### **Combination of the two dataframe files into one file called Bioenergy_data**"
   ]
  },
  {
   "cell_type": "code",
   "execution_count": 11,
   "id": "84795140",
   "metadata": {},
   "outputs": [],
   "source": [
    "Bioenergy_data = pd.concat([B_data1, B_data2], ignore_index = True)"
   ]
  },
  {
   "cell_type": "markdown",
   "id": "desperate-infection",
   "metadata": {
    "id": "desperate-infection"
   },
   "source": [
    "## **<span style=\"font-size:25px; color:Green;\">Data Overview</span>**"
   ]
  },
  {
   "cell_type": "code",
   "execution_count": 12,
   "id": "52fe7d58",
   "metadata": {},
   "outputs": [],
   "source": [
    "# Display all the columns of a dataframe\n",
    "pd.set_option('display.max_columns', None)"
   ]
  },
  {
   "cell_type": "markdown",
   "id": "uooi_FXFo7GM",
   "metadata": {
    "id": "uooi_FXFo7GM"
   },
   "source": [
    "#### **View the first rows of the dataset**\n",
    "Let's view the first few rows of the dataset in order to understand its structure a little better."
   ]
  },
  {
   "cell_type": "code",
   "execution_count": 17,
   "id": "IbqPORFnooEK",
   "metadata": {
    "colab": {
     "base_uri": "https://localhost:8080/",
     "height": 226
    },
    "id": "IbqPORFnooEK",
    "outputId": "18bac06a-bce2-471a-f753-97015f1b61f5"
   },
   "outputs": [
    {
     "data": {
      "text/html": [
       "<div>\n",
       "<style scoped>\n",
       "    .dataframe tbody tr th:only-of-type {\n",
       "        vertical-align: middle;\n",
       "    }\n",
       "\n",
       "    .dataframe tbody tr th {\n",
       "        vertical-align: top;\n",
       "    }\n",
       "\n",
       "    .dataframe thead th {\n",
       "        text-align: right;\n",
       "    }\n",
       "</style>\n",
       "<table border=\"1\" class=\"dataframe\">\n",
       "  <thead>\n",
       "    <tr style=\"text-align: right;\">\n",
       "      <th></th>\n",
       "      <th>Date Last Researched</th>\n",
       "      <th>Country</th>\n",
       "      <th>Project Name</th>\n",
       "      <th>Phase Name</th>\n",
       "      <th>Project Name in Local Language / Script</th>\n",
       "      <th>Other Name(s)</th>\n",
       "      <th>Capacity (MW)</th>\n",
       "      <th>Capacity Rating</th>\n",
       "      <th>Technology Type</th>\n",
       "      <th>Status</th>\n",
       "      <th>Start year</th>\n",
       "      <th>Retired year</th>\n",
       "      <th>Operator</th>\n",
       "      <th>Operator Name in Local Language / Script</th>\n",
       "      <th>Owner</th>\n",
       "      <th>Owner Name in Local Language / Script</th>\n",
       "      <th>Hydrogen</th>\n",
       "      <th>Latitude</th>\n",
       "      <th>Longitude</th>\n",
       "      <th>Location accuracy</th>\n",
       "      <th>City</th>\n",
       "      <th>Local area (taluk, county)</th>\n",
       "      <th>Major area (prefecture, district)</th>\n",
       "      <th>State/Province</th>\n",
       "      <th>Subregion</th>\n",
       "      <th>Region</th>\n",
       "      <th>GEM location ID</th>\n",
       "      <th>GEM phase ID</th>\n",
       "      <th>Other IDs (location)</th>\n",
       "      <th>Other IDs (unit/phase)</th>\n",
       "      <th>Wiki URL</th>\n",
       "    </tr>\n",
       "  </thead>\n",
       "  <tbody>\n",
       "    <tr>\n",
       "      <th>0</th>\n",
       "      <td>2023/08/11</td>\n",
       "      <td>Algeria</td>\n",
       "      <td>Batna solar farm</td>\n",
       "      <td>--</td>\n",
       "      <td>NaN</td>\n",
       "      <td>Oued El Ma</td>\n",
       "      <td>15.0</td>\n",
       "      <td>unknown</td>\n",
       "      <td>PV</td>\n",
       "      <td>operating</td>\n",
       "      <td>2018.0</td>\n",
       "      <td>NaN</td>\n",
       "      <td>NaN</td>\n",
       "      <td>NaN</td>\n",
       "      <td>Shariket Kahraba wa Taket Moutadjadida SPA (SKTM)</td>\n",
       "      <td>شركة الكهرباء و الطاقات المتجددة</td>\n",
       "      <td>NaN</td>\n",
       "      <td>35.6801</td>\n",
       "      <td>5.9861</td>\n",
       "      <td>exact</td>\n",
       "      <td>NaN</td>\n",
       "      <td>NaN</td>\n",
       "      <td>Hauts plateaux east</td>\n",
       "      <td>Batna</td>\n",
       "      <td>Northern Africa</td>\n",
       "      <td>Africa</td>\n",
       "      <td>L100000800031</td>\n",
       "      <td>G100000800035</td>\n",
       "      <td>NaN</td>\n",
       "      <td>WKSL: 65283</td>\n",
       "      <td>https://www.gem.wiki/Batna_solar_farm</td>\n",
       "    </tr>\n",
       "    <tr>\n",
       "      <th>1</th>\n",
       "      <td>2023/08/11</td>\n",
       "      <td>Algeria</td>\n",
       "      <td>Beni Abbes solar farm</td>\n",
       "      <td>--</td>\n",
       "      <td>محطة بني عباس للطاقة الشمسية</td>\n",
       "      <td>NaN</td>\n",
       "      <td>15.0</td>\n",
       "      <td>unknown</td>\n",
       "      <td>PV</td>\n",
       "      <td>shelved - inferred 2 y</td>\n",
       "      <td>NaN</td>\n",
       "      <td>NaN</td>\n",
       "      <td>NaN</td>\n",
       "      <td>NaN</td>\n",
       "      <td>Sonatrach SpA</td>\n",
       "      <td>Société Nationale pour la Recherche, la Produc...</td>\n",
       "      <td>NaN</td>\n",
       "      <td>30.1199</td>\n",
       "      <td>-2.2308</td>\n",
       "      <td>approximate</td>\n",
       "      <td>Béni Abbas</td>\n",
       "      <td>NaN</td>\n",
       "      <td>NaN</td>\n",
       "      <td>Béni Abbas</td>\n",
       "      <td>Northern Africa</td>\n",
       "      <td>Africa</td>\n",
       "      <td>L100000811545</td>\n",
       "      <td>G100000814047</td>\n",
       "      <td>WEPP (S&amp;P Global Platts): 1102363</td>\n",
       "      <td>WEPP (S&amp;P Global Platts): 1260426</td>\n",
       "      <td>https://www.gem.wiki/Beni_Abbes_solar_farm</td>\n",
       "    </tr>\n",
       "  </tbody>\n",
       "</table>\n",
       "</div>"
      ],
      "text/plain": [
       "  Date Last Researched  Country           Project Name Phase Name  \\\n",
       "0           2023/08/11  Algeria       Batna solar farm         --   \n",
       "1           2023/08/11  Algeria  Beni Abbes solar farm         --   \n",
       "\n",
       "  Project Name in Local Language / Script Other Name(s)  Capacity (MW)  \\\n",
       "0                                     NaN    Oued El Ma           15.0   \n",
       "1            محطة بني عباس للطاقة الشمسية           NaN           15.0   \n",
       "\n",
       "  Capacity Rating Technology Type                  Status  Start year  \\\n",
       "0         unknown              PV               operating      2018.0   \n",
       "1         unknown              PV  shelved - inferred 2 y         NaN   \n",
       "\n",
       "   Retired year Operator Operator Name in Local Language / Script  \\\n",
       "0           NaN      NaN                                      NaN   \n",
       "1           NaN      NaN                                      NaN   \n",
       "\n",
       "                                               Owner  \\\n",
       "0  Shariket Kahraba wa Taket Moutadjadida SPA (SKTM)   \n",
       "1                                      Sonatrach SpA   \n",
       "\n",
       "               Owner Name in Local Language / Script Hydrogen  Latitude  \\\n",
       "0                   شركة الكهرباء و الطاقات المتجددة      NaN   35.6801   \n",
       "1  Société Nationale pour la Recherche, la Produc...      NaN   30.1199   \n",
       "\n",
       "   Longitude Location accuracy        City Local area (taluk, county)  \\\n",
       "0     5.9861             exact         NaN                        NaN   \n",
       "1    -2.2308       approximate  Béni Abbas                        NaN   \n",
       "\n",
       "  Major area (prefecture, district) State/Province        Subregion  Region  \\\n",
       "0               Hauts plateaux east          Batna  Northern Africa  Africa   \n",
       "1                               NaN     Béni Abbas  Northern Africa  Africa   \n",
       "\n",
       "  GEM location ID   GEM phase ID               Other IDs (location)  \\\n",
       "0   L100000800031  G100000800035                                NaN   \n",
       "1   L100000811545  G100000814047  WEPP (S&P Global Platts): 1102363   \n",
       "\n",
       "              Other IDs (unit/phase)  \\\n",
       "0                        WKSL: 65283   \n",
       "1  WEPP (S&P Global Platts): 1260426   \n",
       "\n",
       "                                     Wiki URL  \n",
       "0       https://www.gem.wiki/Batna_solar_farm  \n",
       "1  https://www.gem.wiki/Beni_Abbes_solar_farm  "
      ]
     },
     "execution_count": 17,
     "metadata": {},
     "output_type": "execute_result"
    }
   ],
   "source": [
    "# Solar Energy dataset\n",
    "Solar_data.head(2)"
   ]
  },
  {
   "cell_type": "code",
   "execution_count": 18,
   "id": "784bb16c-f949-40f9-869c-a30641dc8835",
   "metadata": {},
   "outputs": [
    {
     "data": {
      "text/html": [
       "<div>\n",
       "<style scoped>\n",
       "    .dataframe tbody tr th:only-of-type {\n",
       "        vertical-align: middle;\n",
       "    }\n",
       "\n",
       "    .dataframe tbody tr th {\n",
       "        vertical-align: top;\n",
       "    }\n",
       "\n",
       "    .dataframe thead th {\n",
       "        text-align: right;\n",
       "    }\n",
       "</style>\n",
       "<table border=\"1\" class=\"dataframe\">\n",
       "  <thead>\n",
       "    <tr style=\"text-align: right;\">\n",
       "      <th></th>\n",
       "      <th>Date Last Researched</th>\n",
       "      <th>Country/Area</th>\n",
       "      <th>Project Name</th>\n",
       "      <th>Phase Name</th>\n",
       "      <th>Project Name in Local Language / Script</th>\n",
       "      <th>Other Name(s)</th>\n",
       "      <th>Capacity (MW)</th>\n",
       "      <th>Installation Type</th>\n",
       "      <th>Status</th>\n",
       "      <th>Start year</th>\n",
       "      <th>Retired year</th>\n",
       "      <th>Operator</th>\n",
       "      <th>Operator Name in Local Language / Script</th>\n",
       "      <th>Owner</th>\n",
       "      <th>Owner Name in Local Language / Script</th>\n",
       "      <th>Hydrogen</th>\n",
       "      <th>Latitude</th>\n",
       "      <th>Longitude</th>\n",
       "      <th>Location accuracy</th>\n",
       "      <th>City</th>\n",
       "      <th>Local area (taluk, county)</th>\n",
       "      <th>Major area (prefecture, district)</th>\n",
       "      <th>State/Province</th>\n",
       "      <th>Subregion</th>\n",
       "      <th>Region</th>\n",
       "      <th>GEM location ID</th>\n",
       "      <th>GEM phase ID</th>\n",
       "      <th>Other IDs (location)</th>\n",
       "      <th>Other IDs (unit/phase)</th>\n",
       "      <th>Wiki URL</th>\n",
       "    </tr>\n",
       "  </thead>\n",
       "  <tbody>\n",
       "    <tr>\n",
       "      <th>0</th>\n",
       "      <td>2022/08/26</td>\n",
       "      <td>Cabo Verde</td>\n",
       "      <td>Boa Vista wind farm</td>\n",
       "      <td>--</td>\n",
       "      <td>NaN</td>\n",
       "      <td>NaN</td>\n",
       "      <td>2.6</td>\n",
       "      <td>Onshore</td>\n",
       "      <td>operating</td>\n",
       "      <td>2012.0</td>\n",
       "      <td>NaN</td>\n",
       "      <td>Cabeólica SA</td>\n",
       "      <td>NaN</td>\n",
       "      <td>Cabeólica SA</td>\n",
       "      <td>NaN</td>\n",
       "      <td>NaN</td>\n",
       "      <td>16.0909</td>\n",
       "      <td>-22.8125</td>\n",
       "      <td>exact</td>\n",
       "      <td>NaN</td>\n",
       "      <td>Boa Vista</td>\n",
       "      <td>NaN</td>\n",
       "      <td>NaN</td>\n",
       "      <td>Sub-Saharan Africa</td>\n",
       "      <td>Africa</td>\n",
       "      <td>L100000916604</td>\n",
       "      <td>G100000920632</td>\n",
       "      <td>NaN</td>\n",
       "      <td>NaN</td>\n",
       "      <td>https://www.gem.wiki/Boa_Vista_wind_farm</td>\n",
       "    </tr>\n",
       "    <tr>\n",
       "      <th>1</th>\n",
       "      <td>2022/08/26</td>\n",
       "      <td>Cabo Verde</td>\n",
       "      <td>Sal wind farm</td>\n",
       "      <td>--</td>\n",
       "      <td>NaN</td>\n",
       "      <td>NaN</td>\n",
       "      <td>7.7</td>\n",
       "      <td>Onshore</td>\n",
       "      <td>operating</td>\n",
       "      <td>2012.0</td>\n",
       "      <td>NaN</td>\n",
       "      <td>Cabeólica SA</td>\n",
       "      <td>NaN</td>\n",
       "      <td>Cabeólica SA</td>\n",
       "      <td>NaN</td>\n",
       "      <td>NaN</td>\n",
       "      <td>16.7249</td>\n",
       "      <td>-22.9278</td>\n",
       "      <td>exact</td>\n",
       "      <td>NaN</td>\n",
       "      <td>Sal</td>\n",
       "      <td>NaN</td>\n",
       "      <td>NaN</td>\n",
       "      <td>Sub-Saharan Africa</td>\n",
       "      <td>Africa</td>\n",
       "      <td>L100000916605</td>\n",
       "      <td>G100000920633</td>\n",
       "      <td>NaN</td>\n",
       "      <td>NaN</td>\n",
       "      <td>https://www.gem.wiki/Sal_wind_farm</td>\n",
       "    </tr>\n",
       "  </tbody>\n",
       "</table>\n",
       "</div>"
      ],
      "text/plain": [
       "  Date Last Researched Country/Area         Project Name Phase Name  \\\n",
       "0           2022/08/26   Cabo Verde  Boa Vista wind farm         --   \n",
       "1           2022/08/26   Cabo Verde        Sal wind farm         --   \n",
       "\n",
       "  Project Name in Local Language / Script Other Name(s)  Capacity (MW)  \\\n",
       "0                                     NaN           NaN            2.6   \n",
       "1                                     NaN           NaN            7.7   \n",
       "\n",
       "  Installation Type     Status  Start year  Retired year      Operator  \\\n",
       "0           Onshore  operating      2012.0           NaN  Cabeólica SA   \n",
       "1           Onshore  operating      2012.0           NaN  Cabeólica SA   \n",
       "\n",
       "  Operator Name in Local Language / Script         Owner  \\\n",
       "0                                      NaN  Cabeólica SA   \n",
       "1                                      NaN  Cabeólica SA   \n",
       "\n",
       "  Owner Name in Local Language / Script Hydrogen  Latitude  Longitude  \\\n",
       "0                                   NaN      NaN   16.0909   -22.8125   \n",
       "1                                   NaN      NaN   16.7249   -22.9278   \n",
       "\n",
       "  Location accuracy City Local area (taluk, county)  \\\n",
       "0             exact  NaN                  Boa Vista   \n",
       "1             exact  NaN                        Sal   \n",
       "\n",
       "  Major area (prefecture, district) State/Province           Subregion  \\\n",
       "0                               NaN            NaN  Sub-Saharan Africa   \n",
       "1                               NaN            NaN  Sub-Saharan Africa   \n",
       "\n",
       "   Region GEM location ID   GEM phase ID Other IDs (location)  \\\n",
       "0  Africa   L100000916604  G100000920632                  NaN   \n",
       "1  Africa   L100000916605  G100000920633                  NaN   \n",
       "\n",
       "  Other IDs (unit/phase)                                  Wiki URL  \n",
       "0                    NaN  https://www.gem.wiki/Boa_Vista_wind_farm  \n",
       "1                    NaN        https://www.gem.wiki/Sal_wind_farm  "
      ]
     },
     "execution_count": 18,
     "metadata": {},
     "output_type": "execute_result"
    }
   ],
   "source": [
    "# Wind Energy dataset\n",
    "Wind_data.head(2)"
   ]
  },
  {
   "cell_type": "code",
   "execution_count": 20,
   "id": "b7aea9b2-adf5-4249-82d2-5971ceb622e9",
   "metadata": {},
   "outputs": [
    {
     "data": {
      "text/html": [
       "<div>\n",
       "<style scoped>\n",
       "    .dataframe tbody tr th:only-of-type {\n",
       "        vertical-align: middle;\n",
       "    }\n",
       "\n",
       "    .dataframe tbody tr th {\n",
       "        vertical-align: top;\n",
       "    }\n",
       "\n",
       "    .dataframe thead th {\n",
       "        text-align: right;\n",
       "    }\n",
       "</style>\n",
       "<table border=\"1\" class=\"dataframe\">\n",
       "  <thead>\n",
       "    <tr style=\"text-align: right;\">\n",
       "      <th></th>\n",
       "      <th>Date Last Researched</th>\n",
       "      <th>Country 1</th>\n",
       "      <th>Country 2</th>\n",
       "      <th>Project Name</th>\n",
       "      <th>Project Name (local lang/script)</th>\n",
       "      <th>Other name(s)</th>\n",
       "      <th>Capacity (MW)</th>\n",
       "      <th>Binational</th>\n",
       "      <th>Country 1 Capacity (MW)</th>\n",
       "      <th>Country 2 Capacity (MW)</th>\n",
       "      <th>Turbines</th>\n",
       "      <th>Status</th>\n",
       "      <th>Complex</th>\n",
       "      <th>Start Year</th>\n",
       "      <th>Retired Year</th>\n",
       "      <th>Owner</th>\n",
       "      <th>Owner Name (local lang/script)</th>\n",
       "      <th>Operator</th>\n",
       "      <th>Operator Name (local lang/script)</th>\n",
       "      <th>Technology Type</th>\n",
       "      <th>River / Watercourse</th>\n",
       "      <th>Latitude</th>\n",
       "      <th>Longitude</th>\n",
       "      <th>Location Accuracy</th>\n",
       "      <th>City 1</th>\n",
       "      <th>Local Area 1</th>\n",
       "      <th>Major Area 1</th>\n",
       "      <th>State/Province 1</th>\n",
       "      <th>Subregion 1</th>\n",
       "      <th>Region 1</th>\n",
       "      <th>City 2</th>\n",
       "      <th>Local Area 2</th>\n",
       "      <th>Major Area 2</th>\n",
       "      <th>State/Province 2</th>\n",
       "      <th>Subregion 2</th>\n",
       "      <th>Region 2</th>\n",
       "      <th>GEM location ID</th>\n",
       "      <th>GEM unit ID</th>\n",
       "      <th>Wiki URL</th>\n",
       "    </tr>\n",
       "  </thead>\n",
       "  <tbody>\n",
       "    <tr>\n",
       "      <th>0</th>\n",
       "      <td>2023-12-19</td>\n",
       "      <td>Afghanistan</td>\n",
       "      <td>NaN</td>\n",
       "      <td>Baghdara hydroelectric plant</td>\n",
       "      <td>NaN</td>\n",
       "      <td>NaN</td>\n",
       "      <td>227</td>\n",
       "      <td>No</td>\n",
       "      <td>227</td>\n",
       "      <td>0</td>\n",
       "      <td>4</td>\n",
       "      <td>announced</td>\n",
       "      <td>NaN</td>\n",
       "      <td>NaN</td>\n",
       "      <td>NaN</td>\n",
       "      <td>Ministry of Energy and Water Afghanistan</td>\n",
       "      <td>NaN</td>\n",
       "      <td>NaN</td>\n",
       "      <td>NaN</td>\n",
       "      <td>conventional storage</td>\n",
       "      <td>Panjshir River</td>\n",
       "      <td>33.7680</td>\n",
       "      <td>66.2385</td>\n",
       "      <td>approximate</td>\n",
       "      <td>Baghdara Village</td>\n",
       "      <td>Abbottabad District</td>\n",
       "      <td>Hazara Division</td>\n",
       "      <td>Khyber Pakhtunkhwa Province</td>\n",
       "      <td>Southern Asia</td>\n",
       "      <td>Asia</td>\n",
       "      <td>NaN</td>\n",
       "      <td>NaN</td>\n",
       "      <td>NaN</td>\n",
       "      <td>NaN</td>\n",
       "      <td>NaN</td>\n",
       "      <td>NaN</td>\n",
       "      <td>L600001</td>\n",
       "      <td>G604221</td>\n",
       "      <td>https://gem.wiki/Baghdara_hydroelectric_plant</td>\n",
       "    </tr>\n",
       "    <tr>\n",
       "      <th>1</th>\n",
       "      <td>2023-12-19</td>\n",
       "      <td>Afghanistan</td>\n",
       "      <td>NaN</td>\n",
       "      <td>Kajaki 2 hydroelectric plant</td>\n",
       "      <td>NaN</td>\n",
       "      <td>Kajaki Dam Phase II, Kajaki Addition</td>\n",
       "      <td>100</td>\n",
       "      <td>No</td>\n",
       "      <td>100</td>\n",
       "      <td>0</td>\n",
       "      <td>3</td>\n",
       "      <td>operating</td>\n",
       "      <td>NaN</td>\n",
       "      <td>2022.0</td>\n",
       "      <td>NaN</td>\n",
       "      <td>Da Afghanistan Breshna Sherkat (DABS)</td>\n",
       "      <td>NaN</td>\n",
       "      <td>NaN</td>\n",
       "      <td>NaN</td>\n",
       "      <td>conventional storage</td>\n",
       "      <td>Helmand River</td>\n",
       "      <td>32.3226</td>\n",
       "      <td>65.1184</td>\n",
       "      <td>exact</td>\n",
       "      <td>NaN</td>\n",
       "      <td>Kajaki</td>\n",
       "      <td>NaN</td>\n",
       "      <td>Helmand Province</td>\n",
       "      <td>Southern Asia</td>\n",
       "      <td>Asia</td>\n",
       "      <td>NaN</td>\n",
       "      <td>NaN</td>\n",
       "      <td>NaN</td>\n",
       "      <td>NaN</td>\n",
       "      <td>NaN</td>\n",
       "      <td>NaN</td>\n",
       "      <td>L604252</td>\n",
       "      <td>G604480</td>\n",
       "      <td>https://gem.wiki/Kajaki_2_hydroelectric_plant</td>\n",
       "    </tr>\n",
       "  </tbody>\n",
       "</table>\n",
       "</div>"
      ],
      "text/plain": [
       "  Date Last Researched    Country 1 Country 2                  Project Name  \\\n",
       "0           2023-12-19  Afghanistan       NaN  Baghdara hydroelectric plant   \n",
       "1           2023-12-19  Afghanistan       NaN  Kajaki 2 hydroelectric plant   \n",
       "\n",
       "  Project Name (local lang/script)                         Other name(s)  \\\n",
       "0                              NaN                                   NaN   \n",
       "1                              NaN  Kajaki Dam Phase II, Kajaki Addition   \n",
       "\n",
       "   Capacity (MW) Binational  Country 1 Capacity (MW)  Country 2 Capacity (MW)  \\\n",
       "0            227         No                      227                        0   \n",
       "1            100         No                      100                        0   \n",
       "\n",
       "  Turbines     Status Complex  Start Year  Retired Year  \\\n",
       "0        4  announced     NaN         NaN           NaN   \n",
       "1        3  operating     NaN      2022.0           NaN   \n",
       "\n",
       "                                      Owner Owner Name (local lang/script)  \\\n",
       "0  Ministry of Energy and Water Afghanistan                            NaN   \n",
       "1     Da Afghanistan Breshna Sherkat (DABS)                            NaN   \n",
       "\n",
       "  Operator Operator Name (local lang/script)       Technology Type  \\\n",
       "0      NaN                               NaN  conventional storage   \n",
       "1      NaN                               NaN  conventional storage   \n",
       "\n",
       "  River / Watercourse  Latitude  Longitude Location Accuracy  \\\n",
       "0      Panjshir River   33.7680    66.2385       approximate   \n",
       "1       Helmand River   32.3226    65.1184             exact   \n",
       "\n",
       "             City 1         Local Area 1     Major Area 1  \\\n",
       "0  Baghdara Village  Abbottabad District  Hazara Division   \n",
       "1               NaN               Kajaki              NaN   \n",
       "\n",
       "              State/Province 1    Subregion 1 Region 1 City 2 Local Area 2  \\\n",
       "0  Khyber Pakhtunkhwa Province  Southern Asia     Asia    NaN          NaN   \n",
       "1             Helmand Province  Southern Asia     Asia    NaN          NaN   \n",
       "\n",
       "  Major Area 2 State/Province 2 Subregion 2 Region 2 GEM location ID  \\\n",
       "0          NaN              NaN         NaN      NaN         L600001   \n",
       "1          NaN              NaN         NaN      NaN         L604252   \n",
       "\n",
       "  GEM unit ID                                       Wiki URL  \n",
       "0     G604221  https://gem.wiki/Baghdara_hydroelectric_plant  \n",
       "1     G604480  https://gem.wiki/Kajaki_2_hydroelectric_plant  "
      ]
     },
     "execution_count": 20,
     "metadata": {},
     "output_type": "execute_result"
    }
   ],
   "source": [
    "# Hydropower Energy dataset\n",
    "Hydro_data.head(2)"
   ]
  },
  {
   "cell_type": "markdown",
   "id": "06ae8327-451a-47be-b35f-2a7d9f099217",
   "metadata": {},
   "source": [
    "#### **The shape of the datasets**"
   ]
  },
  {
   "cell_type": "code",
   "execution_count": 21,
   "id": "44e5b5ba-e761-4519-892c-84ebf8b3f2aa",
   "metadata": {},
   "outputs": [
    {
     "name": "stdout",
     "output_type": "stream",
     "text": [
      "Shape of Solar Energy dataset:  (51968, 31)\n",
      "Shape of Windr Energy dataset:  (29930, 30)\n",
      "Shape of Hydropower Energy dataset:  (4424, 39)\n",
      "Shape of Geothermal Energy dataset:  (577, 33)\n",
      "Shape of Bioenergy Energy dataset:  (2474, 32)\n"
     ]
    }
   ],
   "source": [
    "# Shape of the Solar Energy dataset\n",
    "print('Shape of Solar Energy dataset: ', Solar_data.shape)\n",
    "\n",
    "# Shape of the Wind Energy dataset\n",
    "print('Shape of Windr Energy dataset: ', Wind_data.shape)\n",
    "\n",
    "# Shape of the Hydropower Energy dataset\n",
    "print('Shape of Hydropower Energy dataset: ', Hydro_data.shape)\n",
    "\n",
    "# Shape of the Geothermal Energy dataset\n",
    "print('Shape of Geothermal Energy dataset: ', Geoth_data.shape)\n",
    "\n",
    "# Shape of the Bioenergy dataset\n",
    "print('Shape of Bioenergy Energy dataset: ', Bioenergy_data.shape)"
   ]
  },
  {
   "cell_type": "markdown",
   "id": "1b503ab7",
   "metadata": {},
   "source": [
    "## **<span style=\"font-size:25px; color:Green;\">Preprocessing the datasets</span>**"
   ]
  },
  {
   "cell_type": "markdown",
   "id": "36a1199c",
   "metadata": {},
   "source": [
    "### **<span style=\"font-size:22px; color:Blue;\">1. Solar Energy</span>**"
   ]
  },
  {
   "cell_type": "code",
   "execution_count": 22,
   "id": "cae002e7",
   "metadata": {
    "scrolled": true
   },
   "outputs": [
    {
     "name": "stdout",
     "output_type": "stream",
     "text": [
      "<class 'pandas.core.frame.DataFrame'>\n",
      "RangeIndex: 51968 entries, 0 to 51967\n",
      "Data columns (total 31 columns):\n",
      " #   Column                                    Non-Null Count  Dtype  \n",
      "---  ------                                    --------------  -----  \n",
      " 0   Date Last Researched                      51967 non-null  object \n",
      " 1   Country                                   51968 non-null  object \n",
      " 2   Project Name                              51968 non-null  object \n",
      " 3   Phase Name                                51968 non-null  object \n",
      " 4   Project Name in Local Language / Script   21045 non-null  object \n",
      " 5   Other Name(s)                             5319 non-null   object \n",
      " 6   Capacity (MW)                             51968 non-null  float64\n",
      " 7   Capacity Rating                           51968 non-null  object \n",
      " 8   Technology Type                           51968 non-null  object \n",
      " 9   Status                                    51968 non-null  object \n",
      " 10  Start year                                33468 non-null  float64\n",
      " 11  Retired year                              105 non-null    float64\n",
      " 12  Operator                                  18348 non-null  object \n",
      " 13  Operator Name in Local Language / Script  7004 non-null   object \n",
      " 14  Owner                                     19727 non-null  object \n",
      " 15  Owner Name in Local Language / Script     8284 non-null   object \n",
      " 16  Hydrogen                                  65 non-null     object \n",
      " 17  Latitude                                  51968 non-null  float64\n",
      " 18  Longitude                                 51968 non-null  float64\n",
      " 19  Location accuracy                         51968 non-null  object \n",
      " 20  City                                      26921 non-null  object \n",
      " 21  Local area (taluk, county)                29184 non-null  object \n",
      " 22  Major area (prefecture, district)         23045 non-null  object \n",
      " 23  State/Province                            47785 non-null  object \n",
      " 24  Subregion                                 51968 non-null  object \n",
      " 25  Region                                    51968 non-null  object \n",
      " 26  GEM location ID                           51968 non-null  object \n",
      " 27  GEM phase ID                              51968 non-null  object \n",
      " 28  Other IDs (location)                      10402 non-null  object \n",
      " 29  Other IDs (unit/phase)                    26448 non-null  object \n",
      " 30  Wiki URL                                  51968 non-null  object \n",
      "dtypes: float64(5), object(26)\n",
      "memory usage: 12.3+ MB\n"
     ]
    }
   ],
   "source": [
    "# Check the data types of the columns for the dataset\n",
    "Solar_data.info()"
   ]
  },
  {
   "cell_type": "code",
   "execution_count": 23,
   "id": "a17728bc",
   "metadata": {},
   "outputs": [
    {
     "data": {
      "text/plain": [
       "0"
      ]
     },
     "execution_count": 23,
     "metadata": {},
     "output_type": "execute_result"
    }
   ],
   "source": [
    "# Check if there are duplicates\n",
    "Solar_data.duplicated().sum()"
   ]
  },
  {
   "cell_type": "markdown",
   "id": "ea76b832",
   "metadata": {},
   "source": [
    "**The data contains no duplicated rows.**"
   ]
  },
  {
   "cell_type": "code",
   "execution_count": 24,
   "id": "94ddf24a",
   "metadata": {},
   "outputs": [],
   "source": [
    "# Drop the unnecessary columns for the present analysis.\n",
    "List_to_drop_solar = [\"Date Last Researched\", \"Project Name\", \"Phase Name\",\"Project Name in Local Language / Script\",\n",
    "                         \"Other Name(s)\", \"Capacity Rating\", \"Operator\", \"Operator Name in Local Language / Script\",\n",
    "                         \"Owner\", \"Owner Name in Local Language / Script\", \"Hydrogen\", \"Location accuracy\",\"City\",  \"Technology Type\",\n",
    "                         \"Local area (taluk, county)\",\"Major area (prefecture, district)\",\"GEM location ID\", \"GEM phase ID\",\n",
    "                         \"State/Province\", \"Other IDs (location)\", \"Other IDs (unit/phase)\", \"Wiki URL\"]\n",
    "\n",
    "Solar_data = Solar_data.drop(columns = List_to_drop_solar)"
   ]
  },
  {
   "cell_type": "code",
   "execution_count": 25,
   "id": "33ac3e51",
   "metadata": {},
   "outputs": [
    {
     "data": {
      "text/plain": [
       "(51968, 9)"
      ]
     },
     "execution_count": 25,
     "metadata": {},
     "output_type": "execute_result"
    }
   ],
   "source": [
    "Solar_data.shape"
   ]
  },
  {
   "cell_type": "code",
   "execution_count": 27,
   "id": "6a85f808",
   "metadata": {},
   "outputs": [],
   "source": [
    "# Rename the columns\n",
    "Solar_data.rename(columns={'Capacity (MW)': 'Capacity_MW'}, inplace=True)"
   ]
  },
  {
   "cell_type": "code",
   "execution_count": 28,
   "id": "19c69527",
   "metadata": {},
   "outputs": [
    {
     "name": "stdout",
     "output_type": "stream",
     "text": [
      "<class 'pandas.core.frame.DataFrame'>\n",
      "RangeIndex: 51968 entries, 0 to 51967\n",
      "Data columns (total 9 columns):\n",
      " #   Column        Non-Null Count  Dtype  \n",
      "---  ------        --------------  -----  \n",
      " 0   Country       51968 non-null  object \n",
      " 1   Capacity_MW   51968 non-null  float64\n",
      " 2   Status        51968 non-null  object \n",
      " 3   Start year    33468 non-null  float64\n",
      " 4   Retired year  105 non-null    float64\n",
      " 5   Latitude      51968 non-null  float64\n",
      " 6   Longitude     51968 non-null  float64\n",
      " 7   Subregion     51968 non-null  object \n",
      " 8   Region        51968 non-null  object \n",
      "dtypes: float64(5), object(4)\n",
      "memory usage: 3.6+ MB\n"
     ]
    }
   ],
   "source": [
    "Solar_data.info()"
   ]
  },
  {
   "cell_type": "markdown",
   "id": "debbc27f-5aa4-4a9a-89a2-bc03fed704de",
   "metadata": {},
   "source": [
    "**The solar Energy dataset contains now 9 features : 'Country', 'Capacity (MW)',  'Status', 'Start year', 'Retired year', 'Latitude', 'Longitude', 'Subregion', and 'Region'.**"
   ]
  },
  {
   "cell_type": "markdown",
   "id": "ec3f1ad8",
   "metadata": {},
   "source": [
    "### **<span style=\"font-size:22px; color:Blue;\">2. Wind Energy</span>**\n",
    "#### **Check the data types of the columns for the dataset**"
   ]
  },
  {
   "cell_type": "code",
   "execution_count": 29,
   "id": "8c0ce31f",
   "metadata": {},
   "outputs": [
    {
     "name": "stdout",
     "output_type": "stream",
     "text": [
      "<class 'pandas.core.frame.DataFrame'>\n",
      "RangeIndex: 29930 entries, 0 to 29929\n",
      "Data columns (total 30 columns):\n",
      " #   Column                                    Non-Null Count  Dtype  \n",
      "---  ------                                    --------------  -----  \n",
      " 0   Date Last Researched                      29930 non-null  object \n",
      " 1   Country/Area                              29930 non-null  object \n",
      " 2   Project Name                              29930 non-null  object \n",
      " 3   Phase Name                                29915 non-null  object \n",
      " 4   Project Name in Local Language / Script   5763 non-null   object \n",
      " 5   Other Name(s)                             6983 non-null   object \n",
      " 6   Capacity (MW)                             29930 non-null  float64\n",
      " 7   Installation Type                         29928 non-null  object \n",
      " 8   Status                                    29930 non-null  object \n",
      " 9   Start year                                18524 non-null  float64\n",
      " 10  Retired year                              287 non-null    float64\n",
      " 11  Operator                                  18237 non-null  object \n",
      " 12  Operator Name in Local Language / Script  8030 non-null   object \n",
      " 13  Owner                                     21673 non-null  object \n",
      " 14  Owner Name in Local Language / Script     7939 non-null   object \n",
      " 15  Hydrogen                                  57 non-null     object \n",
      " 16  Latitude                                  29930 non-null  float64\n",
      " 17  Longitude                                 29930 non-null  float64\n",
      " 18  Location accuracy                         29930 non-null  object \n",
      " 19  City                                      13644 non-null  object \n",
      " 20  Local area (taluk, county)                20308 non-null  object \n",
      " 21  Major area (prefecture, district)         14972 non-null  object \n",
      " 22  State/Province                            24806 non-null  object \n",
      " 23  Subregion                                 29930 non-null  object \n",
      " 24  Region                                    29930 non-null  object \n",
      " 25  GEM location ID                           29930 non-null  object \n",
      " 26  GEM phase ID                              29930 non-null  object \n",
      " 27  Other IDs (location)                      6821 non-null   object \n",
      " 28  Other IDs (unit/phase)                    3945 non-null   object \n",
      " 29  Wiki URL                                  29930 non-null  object \n",
      "dtypes: float64(5), object(25)\n",
      "memory usage: 6.9+ MB\n"
     ]
    }
   ],
   "source": [
    "Wind_data.info()"
   ]
  },
  {
   "cell_type": "code",
   "execution_count": 30,
   "id": "b7e89dac",
   "metadata": {},
   "outputs": [
    {
     "data": {
      "text/plain": [
       "0"
      ]
     },
     "execution_count": 30,
     "metadata": {},
     "output_type": "execute_result"
    }
   ],
   "source": [
    "# Check if there are duplicates\n",
    "Wind_data.duplicated().sum()"
   ]
  },
  {
   "cell_type": "markdown",
   "id": "8f846355",
   "metadata": {},
   "source": [
    "**The data contains no duplicated rows.**"
   ]
  },
  {
   "cell_type": "code",
   "execution_count": 31,
   "id": "123bf9bb",
   "metadata": {},
   "outputs": [],
   "source": [
    "# Drop the unnecessary columns for the present analysis.\n",
    "List_columns_drop_wind = [\"Date Last Researched\", \"Project Name\", \"Phase Name\",\"Project Name in Local Language / Script\",\n",
    "                         \"Other Name(s)\", \"Operator\", \"Operator Name in Local Language / Script\",\n",
    "                         \"Owner\", \"Owner Name in Local Language / Script\", \"Hydrogen\", \"Location accuracy\",\"City\",  \"Installation Type\",\n",
    "                         \"Local area (taluk, county)\",\"Major area (prefecture, district)\",\"GEM location ID\", \"GEM phase ID\",\n",
    "                         \"State/Province\", \"Other IDs (location)\", \"Other IDs (unit/phase)\", \"Wiki URL\"]\n",
    "Wind_data = Wind_data.drop(columns = List_columns_drop_wind)"
   ]
  },
  {
   "cell_type": "code",
   "execution_count": 35,
   "id": "f0802a59",
   "metadata": {},
   "outputs": [
    {
     "data": {
      "text/plain": [
       "(29930, 9)"
      ]
     },
     "execution_count": 35,
     "metadata": {},
     "output_type": "execute_result"
    }
   ],
   "source": [
    "Wind_data.shape"
   ]
  },
  {
   "cell_type": "code",
   "execution_count": 36,
   "id": "c8873ce9",
   "metadata": {},
   "outputs": [],
   "source": [
    "# Rename the columns\n",
    "Wind_data.rename(columns={'Capacity (MW)': 'Capacity_MW', 'Country/Area': 'Country'}, inplace=True)"
   ]
  },
  {
   "cell_type": "code",
   "execution_count": 37,
   "id": "8fb797cb",
   "metadata": {},
   "outputs": [
    {
     "name": "stdout",
     "output_type": "stream",
     "text": [
      "<class 'pandas.core.frame.DataFrame'>\n",
      "RangeIndex: 29930 entries, 0 to 29929\n",
      "Data columns (total 9 columns):\n",
      " #   Column        Non-Null Count  Dtype  \n",
      "---  ------        --------------  -----  \n",
      " 0   Country       29930 non-null  object \n",
      " 1   Capacity_MW   29930 non-null  float64\n",
      " 2   Status        29930 non-null  object \n",
      " 3   Start year    18524 non-null  float64\n",
      " 4   Retired year  287 non-null    float64\n",
      " 5   Latitude      29930 non-null  float64\n",
      " 6   Longitude     29930 non-null  float64\n",
      " 7   Subregion     29930 non-null  object \n",
      " 8   Region        29930 non-null  object \n",
      "dtypes: float64(5), object(4)\n",
      "memory usage: 2.1+ MB\n"
     ]
    }
   ],
   "source": [
    "Wind_data.info()"
   ]
  },
  {
   "cell_type": "markdown",
   "id": "6201dff2-318a-4dbb-aa30-375cc731acac",
   "metadata": {},
   "source": [
    "**The Wind Energy dataset contains now 9 features : 'Country', 'Capacity_MW',  'Status', 'Start year', 'Retired year', 'Latitude', 'Longitude', 'Subregion', and 'Region'.**"
   ]
  },
  {
   "cell_type": "markdown",
   "id": "83f93dec",
   "metadata": {},
   "source": [
    "### **<span style=\"font-size:22px; color:Blue;\">3. Geothermal Energy</span>**\n",
    "#### **Check the data types of the columns for the dataset**"
   ]
  },
  {
   "cell_type": "code",
   "execution_count": 38,
   "id": "eca74c00",
   "metadata": {},
   "outputs": [
    {
     "name": "stdout",
     "output_type": "stream",
     "text": [
      "<class 'pandas.core.frame.DataFrame'>\n",
      "RangeIndex: 577 entries, 0 to 576\n",
      "Data columns (total 33 columns):\n",
      " #   Column                                    Non-Null Count  Dtype         \n",
      "---  ------                                    --------------  -----         \n",
      " 0   Date Last Researched                      577 non-null    datetime64[ns]\n",
      " 1   Country                                   577 non-null    object        \n",
      " 2   Project Name                              577 non-null    object        \n",
      " 3   Unit Name                                 577 non-null    object        \n",
      " 4   Project Name in Local Language / Script   89 non-null     object        \n",
      " 5   Other Name(s)                             78 non-null     object        \n",
      " 6   Capacity_MW                               577 non-null    float64       \n",
      " 7   Technology                                572 non-null    object        \n",
      " 8   Status                                    577 non-null    object        \n",
      " 9   Status Details                            2 non-null      object        \n",
      " 10  Latest Activity                           0 non-null      float64       \n",
      " 11  Start year                                425 non-null    float64       \n",
      " 12  Retired year                              13 non-null     float64       \n",
      " 13  Operator                                  366 non-null    object        \n",
      " 14  Operator Name in Local Language / Script  0 non-null      float64       \n",
      " 15  Owner                                     514 non-null    object        \n",
      " 16  Owner Name in Local Language / Script     4 non-null      object        \n",
      " 17  Employment Notes                          6 non-null      object        \n",
      " 18  Hydrogen                                  7 non-null      object        \n",
      " 19  Latitude                                  577 non-null    float64       \n",
      " 20  Longitude                                 577 non-null    float64       \n",
      " 21  Location accuracy                         577 non-null    object        \n",
      " 22  City                                      59 non-null     object        \n",
      " 23  Local area (taluk, county)                398 non-null    object        \n",
      " 24  Major area (prefecture, district)         160 non-null    object        \n",
      " 25  State/Province                            499 non-null    object        \n",
      " 26  Subregion                                 577 non-null    object        \n",
      " 27  Region                                    577 non-null    object        \n",
      " 28  Other IDs (location)                      296 non-null    object        \n",
      " 29  Other IDs (unit/phase)                    0 non-null      float64       \n",
      " 30  GEM location ID                           577 non-null    object        \n",
      " 31  GEM unit ID                               577 non-null    object        \n",
      " 32  Wiki URL                                  577 non-null    object        \n",
      "dtypes: datetime64[ns](1), float64(8), object(24)\n",
      "memory usage: 148.9+ KB\n"
     ]
    }
   ],
   "source": [
    "Geoth_data.info()"
   ]
  },
  {
   "cell_type": "code",
   "execution_count": 39,
   "id": "cd366108",
   "metadata": {},
   "outputs": [
    {
     "data": {
      "text/plain": [
       "0"
      ]
     },
     "execution_count": 39,
     "metadata": {},
     "output_type": "execute_result"
    }
   ],
   "source": [
    "# Check if there are duplicates\n",
    "Geoth_data.duplicated().sum()"
   ]
  },
  {
   "cell_type": "markdown",
   "id": "4d0251e7",
   "metadata": {},
   "source": [
    "**The data contains no duplicated rows.**"
   ]
  },
  {
   "cell_type": "code",
   "execution_count": 40,
   "id": "e5d172fb",
   "metadata": {},
   "outputs": [],
   "source": [
    "# Drop the unnecessary columns for the present analysis.\n",
    "List_columns_drop_geoth = [\"Date Last Researched\", \"Project Name\", \"Unit Name\",\"Project Name in Local Language / Script\",\n",
    "                         \"Other Name(s)\", \"Operator\", \"Operator Name in Local Language / Script\",\n",
    "                         \"Owner\", \"Owner Name in Local Language / Script\", \"Hydrogen\", \"Location accuracy\",\"City\",  \"Technology\",\n",
    "                         \"Local area (taluk, county)\",\"Major area (prefecture, district)\",\"GEM location ID\", \"GEM unit ID\",\n",
    "                         \"State/Province\", \"Other IDs (location)\", \"Other IDs (unit/phase)\", \"Wiki URL\",\n",
    "                                     \"Status Details\", \"Latest Activity\", \"Employment Notes\"]\n",
    "Geoth_data = Geoth_data.drop(columns = List_columns_drop_geoth)"
   ]
  },
  {
   "cell_type": "code",
   "execution_count": 41,
   "id": "faa0c52c",
   "metadata": {},
   "outputs": [
    {
     "data": {
      "text/plain": [
       "(577, 9)"
      ]
     },
     "execution_count": 41,
     "metadata": {},
     "output_type": "execute_result"
    }
   ],
   "source": [
    "Geoth_data.shape"
   ]
  },
  {
   "cell_type": "code",
   "execution_count": 42,
   "id": "11c44515",
   "metadata": {},
   "outputs": [],
   "source": [
    "# Rename the columns\n",
    "Geoth_data.rename(columns={'Capacity (MW)': 'Capacity_MW', 'Country/Area': 'Country'}, inplace=True)"
   ]
  },
  {
   "cell_type": "code",
   "execution_count": 43,
   "id": "c5da9399",
   "metadata": {},
   "outputs": [
    {
     "name": "stdout",
     "output_type": "stream",
     "text": [
      "<class 'pandas.core.frame.DataFrame'>\n",
      "RangeIndex: 577 entries, 0 to 576\n",
      "Data columns (total 9 columns):\n",
      " #   Column        Non-Null Count  Dtype  \n",
      "---  ------        --------------  -----  \n",
      " 0   Country       577 non-null    object \n",
      " 1   Capacity_MW   577 non-null    float64\n",
      " 2   Status        577 non-null    object \n",
      " 3   Start year    425 non-null    float64\n",
      " 4   Retired year  13 non-null     float64\n",
      " 5   Latitude      577 non-null    float64\n",
      " 6   Longitude     577 non-null    float64\n",
      " 7   Subregion     577 non-null    object \n",
      " 8   Region        577 non-null    object \n",
      "dtypes: float64(5), object(4)\n",
      "memory usage: 40.7+ KB\n"
     ]
    }
   ],
   "source": [
    "Geoth_data.info()"
   ]
  },
  {
   "cell_type": "markdown",
   "id": "8fe836e5-3f86-4562-b62b-ac50bfeddfc6",
   "metadata": {},
   "source": [
    "**The Geothermal Energy dataset contains now 9 features : 'Country', 'Capacity_MW',  'Status', 'Start year', 'Retired year', 'Latitude', 'Longitude', 'Subregion', and 'Region'.**"
   ]
  },
  {
   "cell_type": "markdown",
   "id": "8e393b53",
   "metadata": {},
   "source": [
    "### **<span style=\"font-size:22px; color:Blue;\">4. Bioenergy</span>**\n",
    "#### **Check the data types of the columns for the dataset**"
   ]
  },
  {
   "cell_type": "code",
   "execution_count": 44,
   "id": "d21e1fc6",
   "metadata": {},
   "outputs": [
    {
     "name": "stdout",
     "output_type": "stream",
     "text": [
      "<class 'pandas.core.frame.DataFrame'>\n",
      "RangeIndex: 2474 entries, 0 to 2473\n",
      "Data columns (total 32 columns):\n",
      " #   Column                                       Non-Null Count  Dtype         \n",
      "---  ------                                       --------------  -----         \n",
      " 0   Date last researched                         2471 non-null   datetime64[ns]\n",
      " 1   Country/Area                                 2474 non-null   object        \n",
      " 2   Project Name                                 2474 non-null   object        \n",
      " 3   Unit Name                                    2474 non-null   object        \n",
      " 4   Project Name in Local Language / Script      1799 non-null   object        \n",
      " 5   Other Name(s)                                664 non-null    object        \n",
      " 6   Capacity (MW)                                2474 non-null   float64       \n",
      " 7   Fuel                                         2474 non-null   object        \n",
      " 8   Status                                       2474 non-null   object        \n",
      " 9   Conversion/Replacement?                      76 non-null     object        \n",
      " 10  Unit conversion year                         63 non-null     float64       \n",
      " 11  Start Year                                   2075 non-null   float64       \n",
      " 12  Retired Year                                 23 non-null     float64       \n",
      " 13  Hydrogen Capable                             7 non-null      object        \n",
      " 14  Operator(s)                                  2088 non-null   object        \n",
      " 15  Operator Name(s) in Local Language / Script  1346 non-null   object        \n",
      " 16  Owner(s)                                     1916 non-null   object        \n",
      " 17  Owner Name(s) in Local Language / Script     936 non-null    object        \n",
      " 18  Latitude                                     2472 non-null   float64       \n",
      " 19  Longitude                                    2471 non-null   float64       \n",
      " 20  Location Accuracy                            2474 non-null   object        \n",
      " 21  City                                         1259 non-null   object        \n",
      " 22  Local Area (taluk, county)                   1732 non-null   object        \n",
      " 23  Major Area (prefecture, district)            1467 non-null   object        \n",
      " 24  State/Province                               2234 non-null   object        \n",
      " 25  Subregion                                    2474 non-null   object        \n",
      " 26  Region                                       2474 non-null   object        \n",
      " 27  GEM location ID                              2474 non-null   object        \n",
      " 28  GEM phase ID                                 2474 non-null   object        \n",
      " 29  Other IDs (location)                         561 non-null    object        \n",
      " 30  Other IDs (unit/phase)                       280 non-null    object        \n",
      " 31  Wiki URL                                     2474 non-null   object        \n",
      "dtypes: datetime64[ns](1), float64(6), object(25)\n",
      "memory usage: 618.6+ KB\n"
     ]
    }
   ],
   "source": [
    "Bioenergy_data.info()"
   ]
  },
  {
   "cell_type": "code",
   "execution_count": 45,
   "id": "ca8a23b1",
   "metadata": {},
   "outputs": [
    {
     "data": {
      "text/plain": [
       "0"
      ]
     },
     "execution_count": 45,
     "metadata": {},
     "output_type": "execute_result"
    }
   ],
   "source": [
    "# Check if there are duplicates\n",
    "Bioenergy_data.duplicated().sum()"
   ]
  },
  {
   "cell_type": "markdown",
   "id": "16f489ac",
   "metadata": {},
   "source": [
    "**The data contains no duplicated rows.**"
   ]
  },
  {
   "cell_type": "code",
   "execution_count": 46,
   "id": "efa05f2a",
   "metadata": {},
   "outputs": [],
   "source": [
    "# Drop the unnecessary columns for the present analysis.\n",
    "List_columns_drop_bioenergy = [\"Date last researched\", \"Project Name\", \"Unit Name\",\"Project Name in Local Language / Script\",\n",
    "                         \"Other Name(s)\", \"Conversion/Replacement?\", \"Fuel\", \"Major Area (prefecture, district)\",\n",
    "                         \"Unit conversion year\", \"Hydrogen Capable\", \"Operator(s)\", \"Operator Name(s) in Local Language / Script\", \n",
    "                         \"Owner(s)\", \"Owner Name(s) in Local Language / Script\", \"Location Accuracy\", \"City\", \"Local Area (taluk, county)\",\n",
    "                        \"State/Province\",\"GEM location ID\", \"GEM phase ID\", \"Other IDs (location)\", \"Other IDs (unit/phase)\", \"Wiki URL\"]\n",
    "Bioenergy_data = Bioenergy_data.drop(columns = List_columns_drop_bioenergy)"
   ]
  },
  {
   "cell_type": "code",
   "execution_count": 47,
   "id": "6a0c3089",
   "metadata": {},
   "outputs": [
    {
     "data": {
      "text/plain": [
       "(2474, 9)"
      ]
     },
     "execution_count": 47,
     "metadata": {},
     "output_type": "execute_result"
    }
   ],
   "source": [
    "Bioenergy_data.shape"
   ]
  },
  {
   "cell_type": "code",
   "execution_count": 48,
   "id": "e326d153",
   "metadata": {},
   "outputs": [],
   "source": [
    "# Rename the columns\n",
    "Bioenergy_data.rename(columns={'Capacity (MW)': 'Capacity_MW', 'Country/Area': 'Country', 'Start Year': 'Start year', 'Retired Year': 'Retired year'}, inplace=True)"
   ]
  },
  {
   "cell_type": "code",
   "execution_count": 49,
   "id": "5977d80b",
   "metadata": {},
   "outputs": [
    {
     "name": "stdout",
     "output_type": "stream",
     "text": [
      "<class 'pandas.core.frame.DataFrame'>\n",
      "RangeIndex: 2474 entries, 0 to 2473\n",
      "Data columns (total 9 columns):\n",
      " #   Column        Non-Null Count  Dtype  \n",
      "---  ------        --------------  -----  \n",
      " 0   Country       2474 non-null   object \n",
      " 1   Capacity_MW   2474 non-null   float64\n",
      " 2   Status        2474 non-null   object \n",
      " 3   Start year    2075 non-null   float64\n",
      " 4   Retired year  23 non-null     float64\n",
      " 5   Latitude      2472 non-null   float64\n",
      " 6   Longitude     2471 non-null   float64\n",
      " 7   Subregion     2474 non-null   object \n",
      " 8   Region        2474 non-null   object \n",
      "dtypes: float64(5), object(4)\n",
      "memory usage: 174.1+ KB\n"
     ]
    }
   ],
   "source": [
    "Bioenergy_data.info()"
   ]
  },
  {
   "cell_type": "markdown",
   "id": "0d3d04bf-cfef-47d0-be07-f7041fd2b6b6",
   "metadata": {},
   "source": [
    "**The Bioenergy dataset contains now 9 features : 'Country', 'Capacity_MW',  'Status', 'Start year', 'Retired year', 'Latitude', 'Longitude', 'Subregion', and 'Region'.**"
   ]
  },
  {
   "cell_type": "markdown",
   "id": "9e3d080a",
   "metadata": {},
   "source": [
    "### **<span style=\"font-size:22px; color:Blue;\">5. Hydropower Energy</span>**\n",
    "#### **Check the data types of the columns for the dataset**"
   ]
  },
  {
   "cell_type": "code",
   "execution_count": 50,
   "id": "771f0328",
   "metadata": {},
   "outputs": [
    {
     "name": "stdout",
     "output_type": "stream",
     "text": [
      "<class 'pandas.core.frame.DataFrame'>\n",
      "RangeIndex: 4424 entries, 0 to 4423\n",
      "Data columns (total 39 columns):\n",
      " #   Column                             Non-Null Count  Dtype         \n",
      "---  ------                             --------------  -----         \n",
      " 0   Date Last Researched               4424 non-null   datetime64[ns]\n",
      " 1   Country 1                          4424 non-null   object        \n",
      " 2   Country 2                          58 non-null     object        \n",
      " 3   Project Name                       4424 non-null   object        \n",
      " 4   Project Name (local lang/script)   1882 non-null   object        \n",
      " 5   Other name(s)                      1176 non-null   object        \n",
      " 6   Capacity (MW)                      4424 non-null   int64         \n",
      " 7   Binational                         4424 non-null   object        \n",
      " 8   Country 1 Capacity (MW)            4424 non-null   int64         \n",
      " 9   Country 2 Capacity (MW)            4424 non-null   int64         \n",
      " 10  Turbines                           3222 non-null   object        \n",
      " 11  Status                             4424 non-null   object        \n",
      " 12  Complex                            294 non-null    object        \n",
      " 13  Start Year                         3193 non-null   float64       \n",
      " 14  Retired Year                       4 non-null      float64       \n",
      " 15  Owner                              3659 non-null   object        \n",
      " 16  Owner Name (local lang/script)     1086 non-null   object        \n",
      " 17  Operator                           1405 non-null   object        \n",
      " 18  Operator Name (local lang/script)  692 non-null    object        \n",
      " 19  Technology Type                    4424 non-null   object        \n",
      " 20  River / Watercourse                2530 non-null   object        \n",
      " 21  Latitude                           4424 non-null   float64       \n",
      " 22  Longitude                          4424 non-null   float64       \n",
      " 23  Location Accuracy                  4424 non-null   object        \n",
      " 24  City 1                             2131 non-null   object        \n",
      " 25  Local Area 1                       3420 non-null   object        \n",
      " 26  Major Area 1                       2234 non-null   object        \n",
      " 27  State/Province 1                   3929 non-null   object        \n",
      " 28  Subregion 1                        4424 non-null   object        \n",
      " 29  Region 1                           4424 non-null   object        \n",
      " 30  City 2                             10 non-null     object        \n",
      " 31  Local Area 2                       30 non-null     object        \n",
      " 32  Major Area 2                       13 non-null     object        \n",
      " 33  State/Province 2                   46 non-null     object        \n",
      " 34  Subregion 2                        58 non-null     object        \n",
      " 35  Region 2                           58 non-null     object        \n",
      " 36  GEM location ID                    4424 non-null   object        \n",
      " 37  GEM unit ID                        4424 non-null   object        \n",
      " 38  Wiki URL                           4203 non-null   object        \n",
      "dtypes: datetime64[ns](1), float64(4), int64(3), object(31)\n",
      "memory usage: 1.3+ MB\n"
     ]
    }
   ],
   "source": [
    "Hydro_data.info()"
   ]
  },
  {
   "cell_type": "code",
   "execution_count": 51,
   "id": "49571660",
   "metadata": {},
   "outputs": [
    {
     "data": {
      "text/plain": [
       "0"
      ]
     },
     "execution_count": 51,
     "metadata": {},
     "output_type": "execute_result"
    }
   ],
   "source": [
    "# Check if there are duplicates\n",
    "Hydro_data.duplicated().sum()"
   ]
  },
  {
   "cell_type": "markdown",
   "id": "8295c0ea",
   "metadata": {},
   "source": [
    "**The data contains no duplicated rows.**"
   ]
  },
  {
   "cell_type": "code",
   "execution_count": 43,
   "id": "342ac7cc",
   "metadata": {},
   "outputs": [
    {
     "data": {
      "text/plain": [
       "Index(['Date Last Researched', 'Country 1', 'Country 2', 'Project Name',\n",
       "       'Project Name (local lang/script)', 'Other name(s)', 'Capacity (MW)',\n",
       "       'Binational', 'Country 1 Capacity (MW)', 'Country 2 Capacity (MW)',\n",
       "       'Turbines', 'Status', 'Complex', 'Start Year', 'Retired Year', 'Owner',\n",
       "       'Owner Name (local lang/script)', 'Operator',\n",
       "       'Operator Name (local lang/script)', 'Technology Type',\n",
       "       'River / Watercourse', 'Latitude', 'Longitude', 'Location Accuracy',\n",
       "       'City 1', 'Local Area 1', 'Major Area 1', 'State/Province 1',\n",
       "       'Subregion 1', 'Region 1', 'City 2', 'Local Area 2', 'Major Area 2',\n",
       "       'State/Province 2', 'Subregion 2', 'Region 2', 'GEM location ID',\n",
       "       'GEM unit ID', 'Wiki URL'],\n",
       "      dtype='object')"
      ]
     },
     "execution_count": 43,
     "metadata": {},
     "output_type": "execute_result"
    }
   ],
   "source": [
    "Hydro_data.columns"
   ]
  },
  {
   "cell_type": "code",
   "execution_count": 52,
   "id": "a17aaf24",
   "metadata": {},
   "outputs": [],
   "source": [
    "# Drop the unnecessary columns for the present analysis.\n",
    "List_columns_drop_hydro = ['Date Last Researched', 'Project Name',\n",
    "       'Project Name (local lang/script)', 'Other name(s)',\n",
    "       'Turbines',  'Complex', 'Owner', 'Owner Name (local lang/script)', 'Operator',\n",
    "       'Operator Name (local lang/script)', 'Technology Type',\n",
    "       'River / Watercourse', 'Location Accuracy', 'City 1', 'Local Area 1', 'Major Area 1', 'State/Province 1',\n",
    "       'City 2', 'Local Area 2', 'Major Area 2', 'State/Province 2', 'GEM location ID',\n",
    "       'GEM unit ID', 'Wiki URL']\n",
    "\n",
    "Hydro_data = Hydro_data.drop(columns = List_columns_drop_hydro)"
   ]
  },
  {
   "cell_type": "code",
   "execution_count": 53,
   "id": "ab9c11e5",
   "metadata": {},
   "outputs": [
    {
     "name": "stdout",
     "output_type": "stream",
     "text": [
      "<class 'pandas.core.frame.DataFrame'>\n",
      "RangeIndex: 4424 entries, 0 to 4423\n",
      "Data columns (total 15 columns):\n",
      " #   Column                   Non-Null Count  Dtype  \n",
      "---  ------                   --------------  -----  \n",
      " 0   Country 1                4424 non-null   object \n",
      " 1   Country 2                58 non-null     object \n",
      " 2   Capacity (MW)            4424 non-null   int64  \n",
      " 3   Binational               4424 non-null   object \n",
      " 4   Country 1 Capacity (MW)  4424 non-null   int64  \n",
      " 5   Country 2 Capacity (MW)  4424 non-null   int64  \n",
      " 6   Status                   4424 non-null   object \n",
      " 7   Start Year               3193 non-null   float64\n",
      " 8   Retired Year             4 non-null      float64\n",
      " 9   Latitude                 4424 non-null   float64\n",
      " 10  Longitude                4424 non-null   float64\n",
      " 11  Subregion 1              4424 non-null   object \n",
      " 12  Region 1                 4424 non-null   object \n",
      " 13  Subregion 2              58 non-null     object \n",
      " 14  Region 2                 58 non-null     object \n",
      "dtypes: float64(4), int64(3), object(8)\n",
      "memory usage: 518.6+ KB\n"
     ]
    }
   ],
   "source": [
    "Hydro_data.info()"
   ]
  },
  {
   "cell_type": "code",
   "execution_count": 54,
   "id": "ea63b5c1",
   "metadata": {},
   "outputs": [],
   "source": [
    "#create new DataFrame from existing DataFrame\n",
    "Hydro1 = Hydro_data[['Country 1','Country 1 Capacity (MW)', 'Status', 'Start Year', 'Retired Year',\n",
    "                     'Latitude', 'Longitude', 'Subregion 1', 'Region 1']].copy()\n",
    "Hydro2 = Hydro_data[['Country 2','Country 2 Capacity (MW)', 'Status', 'Start Year', 'Retired Year',\n",
    "                     'Latitude', 'Longitude', 'Subregion 2', 'Region 2']].copy()"
   ]
  },
  {
   "cell_type": "code",
   "execution_count": 55,
   "id": "21f1d27d",
   "metadata": {},
   "outputs": [
    {
     "name": "stdout",
     "output_type": "stream",
     "text": [
      "<class 'pandas.core.frame.DataFrame'>\n",
      "RangeIndex: 4424 entries, 0 to 4423\n",
      "Data columns (total 9 columns):\n",
      " #   Column                   Non-Null Count  Dtype  \n",
      "---  ------                   --------------  -----  \n",
      " 0   Country 1                4424 non-null   object \n",
      " 1   Country 1 Capacity (MW)  4424 non-null   int64  \n",
      " 2   Status                   4424 non-null   object \n",
      " 3   Start Year               3193 non-null   float64\n",
      " 4   Retired Year             4 non-null      float64\n",
      " 5   Latitude                 4424 non-null   float64\n",
      " 6   Longitude                4424 non-null   float64\n",
      " 7   Subregion 1              4424 non-null   object \n",
      " 8   Region 1                 4424 non-null   object \n",
      "dtypes: float64(4), int64(1), object(4)\n",
      "memory usage: 311.2+ KB\n"
     ]
    }
   ],
   "source": [
    "Hydro1.info()"
   ]
  },
  {
   "cell_type": "code",
   "execution_count": 56,
   "id": "fffe3b0f",
   "metadata": {},
   "outputs": [
    {
     "name": "stdout",
     "output_type": "stream",
     "text": [
      "<class 'pandas.core.frame.DataFrame'>\n",
      "RangeIndex: 4424 entries, 0 to 4423\n",
      "Data columns (total 9 columns):\n",
      " #   Column                   Non-Null Count  Dtype  \n",
      "---  ------                   --------------  -----  \n",
      " 0   Country 2                58 non-null     object \n",
      " 1   Country 2 Capacity (MW)  4424 non-null   int64  \n",
      " 2   Status                   4424 non-null   object \n",
      " 3   Start Year               3193 non-null   float64\n",
      " 4   Retired Year             4 non-null      float64\n",
      " 5   Latitude                 4424 non-null   float64\n",
      " 6   Longitude                4424 non-null   float64\n",
      " 7   Subregion 2              58 non-null     object \n",
      " 8   Region 2                 58 non-null     object \n",
      "dtypes: float64(4), int64(1), object(4)\n",
      "memory usage: 311.2+ KB\n"
     ]
    }
   ],
   "source": [
    "Hydro2.info()"
   ]
  },
  {
   "cell_type": "code",
   "execution_count": 57,
   "id": "700af654",
   "metadata": {},
   "outputs": [],
   "source": [
    "# Hydro 2 is a dataframe contains the power plants that its ownership is common between two countries\n",
    "Hydro2 = Hydro2[Hydro2['Country 2 Capacity (MW)'] > 0]"
   ]
  },
  {
   "cell_type": "code",
   "execution_count": 58,
   "id": "f6534765",
   "metadata": {},
   "outputs": [
    {
     "name": "stdout",
     "output_type": "stream",
     "text": [
      "<class 'pandas.core.frame.DataFrame'>\n",
      "Index: 44 entries, 20 to 4194\n",
      "Data columns (total 9 columns):\n",
      " #   Column                   Non-Null Count  Dtype  \n",
      "---  ------                   --------------  -----  \n",
      " 0   Country 2                44 non-null     object \n",
      " 1   Country 2 Capacity (MW)  44 non-null     int64  \n",
      " 2   Status                   44 non-null     object \n",
      " 3   Start Year               32 non-null     float64\n",
      " 4   Retired Year             0 non-null      float64\n",
      " 5   Latitude                 44 non-null     float64\n",
      " 6   Longitude                44 non-null     float64\n",
      " 7   Subregion 2              44 non-null     object \n",
      " 8   Region 2                 44 non-null     object \n",
      "dtypes: float64(4), int64(1), object(4)\n",
      "memory usage: 3.4+ KB\n"
     ]
    }
   ],
   "source": [
    "Hydro2.info()"
   ]
  },
  {
   "cell_type": "markdown",
   "id": "3f52420f-4c0f-456d-98cb-7fe196f47454",
   "metadata": {},
   "source": [
    "**There are only 44 hydropower plants whose ownership is common between two countries.**"
   ]
  },
  {
   "cell_type": "code",
   "execution_count": 59,
   "id": "1a43cd26",
   "metadata": {},
   "outputs": [],
   "source": [
    "# Rename the columns of Hydro1\n",
    "Hydro1.rename(columns={'Country 1': 'Country','Country 1 Capacity (MW)': 'Capacity_MW', 'Subregion 1': 'Subregion',\n",
    "                       'Region 1': 'Region', 'Start Year': 'Start year', 'Retired Year': 'Retired year'}, inplace=True)"
   ]
  },
  {
   "cell_type": "code",
   "execution_count": 60,
   "id": "fd4f790f",
   "metadata": {},
   "outputs": [],
   "source": [
    "# Rename the columns of Hydro2\n",
    "Hydro2.rename(columns={'Country 2': 'Country','Country 2 Capacity (MW)': 'Capacity_MW', 'Subregion 2': 'Subregion',\n",
    "                       'Region 2': 'Region', 'Start Year': 'Start year', 'Retired Year': 'Retired year'}, inplace=True)"
   ]
  },
  {
   "cell_type": "markdown",
   "id": "5ae1a7c1-ae40-46d9-bb4f-69465e51753e",
   "metadata": {},
   "source": [
    "#### **The part of a joint-project owned by a second country is assumed to be an independent project owned by the second country**"
   ]
  },
  {
   "cell_type": "code",
   "execution_count": 61,
   "id": "a5687f9f",
   "metadata": {},
   "outputs": [],
   "source": [
    "# Combine using concat()\n",
    "Hydro_data = pd.concat([Hydro1, Hydro2])"
   ]
  },
  {
   "cell_type": "code",
   "execution_count": 62,
   "id": "22b4e1a9",
   "metadata": {},
   "outputs": [
    {
     "data": {
      "text/plain": [
       "(4468, 9)"
      ]
     },
     "execution_count": 62,
     "metadata": {},
     "output_type": "execute_result"
    }
   ],
   "source": [
    "# Shape of 'Hydro_data' dataframe\n",
    "Hydro_data.shape"
   ]
  },
  {
   "cell_type": "code",
   "execution_count": 63,
   "id": "5791a74e",
   "metadata": {},
   "outputs": [
    {
     "name": "stdout",
     "output_type": "stream",
     "text": [
      "<class 'pandas.core.frame.DataFrame'>\n",
      "Index: 4468 entries, 0 to 4194\n",
      "Data columns (total 9 columns):\n",
      " #   Column        Non-Null Count  Dtype  \n",
      "---  ------        --------------  -----  \n",
      " 0   Country       4468 non-null   object \n",
      " 1   Capacity_MW   4468 non-null   int64  \n",
      " 2   Status        4468 non-null   object \n",
      " 3   Start year    3225 non-null   float64\n",
      " 4   Retired year  4 non-null      float64\n",
      " 5   Latitude      4468 non-null   float64\n",
      " 6   Longitude     4468 non-null   float64\n",
      " 7   Subregion     4468 non-null   object \n",
      " 8   Region        4468 non-null   object \n",
      "dtypes: float64(4), int64(1), object(4)\n",
      "memory usage: 349.1+ KB\n"
     ]
    }
   ],
   "source": [
    "# info of 'Hydro_data' dataframe\n",
    "Hydro_data.info()"
   ]
  },
  {
   "cell_type": "code",
   "execution_count": 64,
   "id": "6f481b22",
   "metadata": {},
   "outputs": [
    {
     "data": {
      "text/html": [
       "<div>\n",
       "<style scoped>\n",
       "    .dataframe tbody tr th:only-of-type {\n",
       "        vertical-align: middle;\n",
       "    }\n",
       "\n",
       "    .dataframe tbody tr th {\n",
       "        vertical-align: top;\n",
       "    }\n",
       "\n",
       "    .dataframe thead th {\n",
       "        text-align: right;\n",
       "    }\n",
       "</style>\n",
       "<table border=\"1\" class=\"dataframe\">\n",
       "  <thead>\n",
       "    <tr style=\"text-align: right;\">\n",
       "      <th></th>\n",
       "      <th>Country</th>\n",
       "      <th>Capacity_MW</th>\n",
       "      <th>Status</th>\n",
       "      <th>Start year</th>\n",
       "      <th>Retired year</th>\n",
       "      <th>Latitude</th>\n",
       "      <th>Longitude</th>\n",
       "      <th>Subregion</th>\n",
       "      <th>Region</th>\n",
       "    </tr>\n",
       "  </thead>\n",
       "  <tbody>\n",
       "    <tr>\n",
       "      <th>3246</th>\n",
       "      <td>Bulgaria</td>\n",
       "      <td>265</td>\n",
       "      <td>announced</td>\n",
       "      <td>NaN</td>\n",
       "      <td>NaN</td>\n",
       "      <td>44.1292</td>\n",
       "      <td>27.2771</td>\n",
       "      <td>Eastern Europe</td>\n",
       "      <td>Europe</td>\n",
       "    </tr>\n",
       "    <tr>\n",
       "      <th>3247</th>\n",
       "      <td>Serbia</td>\n",
       "      <td>1140</td>\n",
       "      <td>operating</td>\n",
       "      <td>1970.0</td>\n",
       "      <td>NaN</td>\n",
       "      <td>44.6705</td>\n",
       "      <td>22.5282</td>\n",
       "      <td>Southern Europe</td>\n",
       "      <td>Europe</td>\n",
       "    </tr>\n",
       "    <tr>\n",
       "      <th>3248</th>\n",
       "      <td>Serbia</td>\n",
       "      <td>270</td>\n",
       "      <td>operating</td>\n",
       "      <td>1985.0</td>\n",
       "      <td>NaN</td>\n",
       "      <td>44.3042</td>\n",
       "      <td>22.5648</td>\n",
       "      <td>Southern Europe</td>\n",
       "      <td>Europe</td>\n",
       "    </tr>\n",
       "    <tr>\n",
       "      <th>4193</th>\n",
       "      <td>Zimbabwe</td>\n",
       "      <td>1200</td>\n",
       "      <td>announced</td>\n",
       "      <td>NaN</td>\n",
       "      <td>NaN</td>\n",
       "      <td>-17.9274</td>\n",
       "      <td>26.1081</td>\n",
       "      <td>Sub-Saharan Africa</td>\n",
       "      <td>Africa</td>\n",
       "    </tr>\n",
       "    <tr>\n",
       "      <th>4194</th>\n",
       "      <td>Zimbabwe</td>\n",
       "      <td>1050</td>\n",
       "      <td>operating</td>\n",
       "      <td>1959.0</td>\n",
       "      <td>NaN</td>\n",
       "      <td>-16.5225</td>\n",
       "      <td>28.7621</td>\n",
       "      <td>Sub-Saharan Africa</td>\n",
       "      <td>Africa</td>\n",
       "    </tr>\n",
       "  </tbody>\n",
       "</table>\n",
       "</div>"
      ],
      "text/plain": [
       "       Country  Capacity_MW     Status  Start year  Retired year  Latitude  \\\n",
       "3246  Bulgaria          265  announced         NaN           NaN   44.1292   \n",
       "3247    Serbia         1140  operating      1970.0           NaN   44.6705   \n",
       "3248    Serbia          270  operating      1985.0           NaN   44.3042   \n",
       "4193  Zimbabwe         1200  announced         NaN           NaN  -17.9274   \n",
       "4194  Zimbabwe         1050  operating      1959.0           NaN  -16.5225   \n",
       "\n",
       "      Longitude           Subregion  Region  \n",
       "3246    27.2771      Eastern Europe  Europe  \n",
       "3247    22.5282     Southern Europe  Europe  \n",
       "3248    22.5648     Southern Europe  Europe  \n",
       "4193    26.1081  Sub-Saharan Africa  Africa  \n",
       "4194    28.7621  Sub-Saharan Africa  Africa  "
      ]
     },
     "execution_count": 64,
     "metadata": {},
     "output_type": "execute_result"
    }
   ],
   "source": [
    "# Last 5 rows of 'Hydro_data' dataframe\n",
    "Hydro_data.tail()"
   ]
  },
  {
   "cell_type": "markdown",
   "id": "feaa1e88",
   "metadata": {},
   "source": [
    "### **<span style=\"font-size:22px; color:Blue;\">6. Sorting the dataset by country and by capacity</span>**"
   ]
  },
  {
   "cell_type": "markdown",
   "id": "a5d18935-7903-415f-bd39-064b5456ee75",
   "metadata": {},
   "source": [
    "#### **Sorting the dataframes by 'Country' and then by 'Capacity_MW'**"
   ]
  },
  {
   "cell_type": "code",
   "execution_count": 65,
   "id": "68658378",
   "metadata": {},
   "outputs": [],
   "source": [
    "# Solar Energy sorting\n",
    "Solar_data = Solar_data.sort_values(by=['Country', 'Capacity_MW'])"
   ]
  },
  {
   "cell_type": "code",
   "execution_count": 66,
   "id": "33f1a783",
   "metadata": {},
   "outputs": [],
   "source": [
    "# wind Energy sorting\n",
    "Wind_data = Wind_data.sort_values(by=['Country', 'Capacity_MW'])"
   ]
  },
  {
   "cell_type": "code",
   "execution_count": 67,
   "id": "02d34bda",
   "metadata": {},
   "outputs": [],
   "source": [
    "# hydropower Energy sorting\n",
    "Hydro_data = Hydro_data.sort_values(by=['Country', 'Capacity_MW'])"
   ]
  },
  {
   "cell_type": "code",
   "execution_count": 68,
   "id": "4569d4a7",
   "metadata": {},
   "outputs": [],
   "source": [
    "# Geothermal Energy sorting\n",
    "Geoth_data = Geoth_data.sort_values(by=['Country', 'Capacity_MW'])"
   ]
  },
  {
   "cell_type": "code",
   "execution_count": 69,
   "id": "c238fa23",
   "metadata": {},
   "outputs": [],
   "source": [
    "# Bioenergy sorting\n",
    "Bioenergy_data = Bioenergy_data.sort_values(by=['Country', 'Capacity_MW'])"
   ]
  },
  {
   "cell_type": "markdown",
   "id": "f4a27ff3",
   "metadata": {},
   "source": [
    "### **<span style=\"font-size:22px; color:Blue;\">7. Add a column 'Energy Type' to specify the type of the renewable energy</span>**"
   ]
  },
  {
   "cell_type": "markdown",
   "id": "4b627f1c-ffe3-4585-91aa-536c4d9adf7d",
   "metadata": {},
   "source": [
    "#### **Before combining the dataframe of different renewable energies we need to specify the type of enrergy in a column 'Energy Type'**"
   ]
  },
  {
   "cell_type": "markdown",
   "id": "1eccb455",
   "metadata": {},
   "source": [
    "### **Solar Energy**"
   ]
  },
  {
   "cell_type": "code",
   "execution_count": 71,
   "id": "d2c537e5",
   "metadata": {},
   "outputs": [],
   "source": [
    "Solar_data['Energy Type'] = 'Solar Energy'"
   ]
  },
  {
   "cell_type": "code",
   "execution_count": 72,
   "id": "409609de",
   "metadata": {},
   "outputs": [
    {
     "data": {
      "text/html": [
       "<div>\n",
       "<style scoped>\n",
       "    .dataframe tbody tr th:only-of-type {\n",
       "        vertical-align: middle;\n",
       "    }\n",
       "\n",
       "    .dataframe tbody tr th {\n",
       "        vertical-align: top;\n",
       "    }\n",
       "\n",
       "    .dataframe thead th {\n",
       "        text-align: right;\n",
       "    }\n",
       "</style>\n",
       "<table border=\"1\" class=\"dataframe\">\n",
       "  <thead>\n",
       "    <tr style=\"text-align: right;\">\n",
       "      <th></th>\n",
       "      <th>Country</th>\n",
       "      <th>Capacity_MW</th>\n",
       "      <th>Status</th>\n",
       "      <th>Start year</th>\n",
       "      <th>Retired year</th>\n",
       "      <th>Latitude</th>\n",
       "      <th>Longitude</th>\n",
       "      <th>Subregion</th>\n",
       "      <th>Region</th>\n",
       "      <th>Energy Type</th>\n",
       "    </tr>\n",
       "  </thead>\n",
       "  <tbody>\n",
       "    <tr>\n",
       "      <th>12116</th>\n",
       "      <td>China</td>\n",
       "      <td>1.6</td>\n",
       "      <td>operating</td>\n",
       "      <td>2017.0</td>\n",
       "      <td>NaN</td>\n",
       "      <td>30.6383</td>\n",
       "      <td>119.6755</td>\n",
       "      <td>Eastern Asia</td>\n",
       "      <td>Asia</td>\n",
       "      <td>Solar Energy</td>\n",
       "    </tr>\n",
       "    <tr>\n",
       "      <th>32447</th>\n",
       "      <td>Brazil</td>\n",
       "      <td>50.0</td>\n",
       "      <td>pre-construction</td>\n",
       "      <td>NaN</td>\n",
       "      <td>NaN</td>\n",
       "      <td>-3.1327</td>\n",
       "      <td>-41.5643</td>\n",
       "      <td>Latin America and the Caribbean</td>\n",
       "      <td>Americas</td>\n",
       "      <td>Solar Energy</td>\n",
       "    </tr>\n",
       "    <tr>\n",
       "      <th>45162</th>\n",
       "      <td>Indonesia</td>\n",
       "      <td>21.0</td>\n",
       "      <td>operating</td>\n",
       "      <td>2019.0</td>\n",
       "      <td>NaN</td>\n",
       "      <td>1.6587</td>\n",
       "      <td>125.0964</td>\n",
       "      <td>South-eastern Asia</td>\n",
       "      <td>Asia</td>\n",
       "      <td>Solar Energy</td>\n",
       "    </tr>\n",
       "    <tr>\n",
       "      <th>5081</th>\n",
       "      <td>United States</td>\n",
       "      <td>1.0</td>\n",
       "      <td>operating</td>\n",
       "      <td>2016.0</td>\n",
       "      <td>NaN</td>\n",
       "      <td>44.7224</td>\n",
       "      <td>-93.0229</td>\n",
       "      <td>Northern America</td>\n",
       "      <td>Americas</td>\n",
       "      <td>Solar Energy</td>\n",
       "    </tr>\n",
       "    <tr>\n",
       "      <th>25608</th>\n",
       "      <td>Germany</td>\n",
       "      <td>3.8</td>\n",
       "      <td>operating</td>\n",
       "      <td>2022.0</td>\n",
       "      <td>NaN</td>\n",
       "      <td>50.8387</td>\n",
       "      <td>9.0965</td>\n",
       "      <td>Western Europe</td>\n",
       "      <td>Europe</td>\n",
       "      <td>Solar Energy</td>\n",
       "    </tr>\n",
       "  </tbody>\n",
       "</table>\n",
       "</div>"
      ],
      "text/plain": [
       "             Country  Capacity_MW            Status  Start year  Retired year  \\\n",
       "12116          China          1.6         operating      2017.0           NaN   \n",
       "32447         Brazil         50.0  pre-construction         NaN           NaN   \n",
       "45162      Indonesia         21.0         operating      2019.0           NaN   \n",
       "5081   United States          1.0         operating      2016.0           NaN   \n",
       "25608        Germany          3.8         operating      2022.0           NaN   \n",
       "\n",
       "       Latitude  Longitude                        Subregion    Region  \\\n",
       "12116   30.6383   119.6755                     Eastern Asia      Asia   \n",
       "32447   -3.1327   -41.5643  Latin America and the Caribbean  Americas   \n",
       "45162    1.6587   125.0964               South-eastern Asia      Asia   \n",
       "5081    44.7224   -93.0229                 Northern America  Americas   \n",
       "25608   50.8387     9.0965                   Western Europe    Europe   \n",
       "\n",
       "        Energy Type  \n",
       "12116  Solar Energy  \n",
       "32447  Solar Energy  \n",
       "45162  Solar Energy  \n",
       "5081   Solar Energy  \n",
       "25608  Solar Energy  "
      ]
     },
     "execution_count": 72,
     "metadata": {},
     "output_type": "execute_result"
    }
   ],
   "source": [
    "Solar_data.sample(5)"
   ]
  },
  {
   "cell_type": "markdown",
   "id": "aa20751f",
   "metadata": {},
   "source": [
    "### **Wind Energy**"
   ]
  },
  {
   "cell_type": "code",
   "execution_count": 73,
   "id": "2e7edc78",
   "metadata": {},
   "outputs": [],
   "source": [
    "Wind_data['Energy Type'] = 'Wind Energy'"
   ]
  },
  {
   "cell_type": "code",
   "execution_count": 74,
   "id": "bdd26797",
   "metadata": {},
   "outputs": [
    {
     "data": {
      "text/html": [
       "<div>\n",
       "<style scoped>\n",
       "    .dataframe tbody tr th:only-of-type {\n",
       "        vertical-align: middle;\n",
       "    }\n",
       "\n",
       "    .dataframe tbody tr th {\n",
       "        vertical-align: top;\n",
       "    }\n",
       "\n",
       "    .dataframe thead th {\n",
       "        text-align: right;\n",
       "    }\n",
       "</style>\n",
       "<table border=\"1\" class=\"dataframe\">\n",
       "  <thead>\n",
       "    <tr style=\"text-align: right;\">\n",
       "      <th></th>\n",
       "      <th>Country</th>\n",
       "      <th>Capacity_MW</th>\n",
       "      <th>Status</th>\n",
       "      <th>Start year</th>\n",
       "      <th>Retired year</th>\n",
       "      <th>Latitude</th>\n",
       "      <th>Longitude</th>\n",
       "      <th>Subregion</th>\n",
       "      <th>Region</th>\n",
       "      <th>Energy Type</th>\n",
       "    </tr>\n",
       "  </thead>\n",
       "  <tbody>\n",
       "    <tr>\n",
       "      <th>27966</th>\n",
       "      <td>Germany</td>\n",
       "      <td>57.0</td>\n",
       "      <td>operating</td>\n",
       "      <td>2012.0</td>\n",
       "      <td>NaN</td>\n",
       "      <td>52.5778</td>\n",
       "      <td>11.5116</td>\n",
       "      <td>Western Europe</td>\n",
       "      <td>Europe</td>\n",
       "      <td>Wind Energy</td>\n",
       "    </tr>\n",
       "    <tr>\n",
       "      <th>23109</th>\n",
       "      <td>Spain</td>\n",
       "      <td>48.0</td>\n",
       "      <td>pre-construction</td>\n",
       "      <td>NaN</td>\n",
       "      <td>NaN</td>\n",
       "      <td>41.7762</td>\n",
       "      <td>1.4384</td>\n",
       "      <td>Southern Europe</td>\n",
       "      <td>Europe</td>\n",
       "      <td>Wind Energy</td>\n",
       "    </tr>\n",
       "    <tr>\n",
       "      <th>12578</th>\n",
       "      <td>China</td>\n",
       "      <td>50.0</td>\n",
       "      <td>operating</td>\n",
       "      <td>2012.0</td>\n",
       "      <td>NaN</td>\n",
       "      <td>35.9279</td>\n",
       "      <td>118.8971</td>\n",
       "      <td>Eastern Asia</td>\n",
       "      <td>Asia</td>\n",
       "      <td>Wind Energy</td>\n",
       "    </tr>\n",
       "    <tr>\n",
       "      <th>15136</th>\n",
       "      <td>Philippines</td>\n",
       "      <td>30.0</td>\n",
       "      <td>announced</td>\n",
       "      <td>2025.0</td>\n",
       "      <td>NaN</td>\n",
       "      <td>14.1091</td>\n",
       "      <td>121.1434</td>\n",
       "      <td>South-eastern Asia</td>\n",
       "      <td>Asia</td>\n",
       "      <td>Wind Energy</td>\n",
       "    </tr>\n",
       "    <tr>\n",
       "      <th>14801</th>\n",
       "      <td>South Korea</td>\n",
       "      <td>21.0</td>\n",
       "      <td>operating</td>\n",
       "      <td>2021.0</td>\n",
       "      <td>NaN</td>\n",
       "      <td>37.1162</td>\n",
       "      <td>128.9882</td>\n",
       "      <td>Eastern Asia</td>\n",
       "      <td>Asia</td>\n",
       "      <td>Wind Energy</td>\n",
       "    </tr>\n",
       "  </tbody>\n",
       "</table>\n",
       "</div>"
      ],
      "text/plain": [
       "           Country  Capacity_MW            Status  Start year  Retired year  \\\n",
       "27966      Germany         57.0         operating      2012.0           NaN   \n",
       "23109        Spain         48.0  pre-construction         NaN           NaN   \n",
       "12578        China         50.0         operating      2012.0           NaN   \n",
       "15136  Philippines         30.0         announced      2025.0           NaN   \n",
       "14801  South Korea         21.0         operating      2021.0           NaN   \n",
       "\n",
       "       Latitude  Longitude           Subregion  Region  Energy Type  \n",
       "27966   52.5778    11.5116      Western Europe  Europe  Wind Energy  \n",
       "23109   41.7762     1.4384     Southern Europe  Europe  Wind Energy  \n",
       "12578   35.9279   118.8971        Eastern Asia    Asia  Wind Energy  \n",
       "15136   14.1091   121.1434  South-eastern Asia    Asia  Wind Energy  \n",
       "14801   37.1162   128.9882        Eastern Asia    Asia  Wind Energy  "
      ]
     },
     "execution_count": 74,
     "metadata": {},
     "output_type": "execute_result"
    }
   ],
   "source": [
    "Wind_data.sample(5)"
   ]
  },
  {
   "cell_type": "markdown",
   "id": "b5210cb0",
   "metadata": {},
   "source": [
    "### **Geothermal Energy**"
   ]
  },
  {
   "cell_type": "code",
   "execution_count": 75,
   "id": "65b13d47",
   "metadata": {},
   "outputs": [],
   "source": [
    "Geoth_data['Energy Type'] = 'Geothermal Energy'"
   ]
  },
  {
   "cell_type": "code",
   "execution_count": 76,
   "id": "81886aed",
   "metadata": {},
   "outputs": [
    {
     "data": {
      "text/html": [
       "<div>\n",
       "<style scoped>\n",
       "    .dataframe tbody tr th:only-of-type {\n",
       "        vertical-align: middle;\n",
       "    }\n",
       "\n",
       "    .dataframe tbody tr th {\n",
       "        vertical-align: top;\n",
       "    }\n",
       "\n",
       "    .dataframe thead th {\n",
       "        text-align: right;\n",
       "    }\n",
       "</style>\n",
       "<table border=\"1\" class=\"dataframe\">\n",
       "  <thead>\n",
       "    <tr style=\"text-align: right;\">\n",
       "      <th></th>\n",
       "      <th>Country</th>\n",
       "      <th>Capacity_MW</th>\n",
       "      <th>Status</th>\n",
       "      <th>Start year</th>\n",
       "      <th>Retired year</th>\n",
       "      <th>Latitude</th>\n",
       "      <th>Longitude</th>\n",
       "      <th>Subregion</th>\n",
       "      <th>Region</th>\n",
       "      <th>Energy Type</th>\n",
       "    </tr>\n",
       "  </thead>\n",
       "  <tbody>\n",
       "    <tr>\n",
       "      <th>216</th>\n",
       "      <td>Kenya</td>\n",
       "      <td>100.0</td>\n",
       "      <td>pre-construction</td>\n",
       "      <td>NaN</td>\n",
       "      <td>NaN</td>\n",
       "      <td>1.1689</td>\n",
       "      <td>36.1726</td>\n",
       "      <td>Sub-Saharan Africa</td>\n",
       "      <td>Africa</td>\n",
       "      <td>Geothermal Energy</td>\n",
       "    </tr>\n",
       "    <tr>\n",
       "      <th>46</th>\n",
       "      <td>Canada</td>\n",
       "      <td>20.0</td>\n",
       "      <td>announced</td>\n",
       "      <td>NaN</td>\n",
       "      <td>NaN</td>\n",
       "      <td>49.1390</td>\n",
       "      <td>-102.9849</td>\n",
       "      <td>Northern America</td>\n",
       "      <td>Americas</td>\n",
       "      <td>Geothermal Energy</td>\n",
       "    </tr>\n",
       "    <tr>\n",
       "      <th>165</th>\n",
       "      <td>United States</td>\n",
       "      <td>3.0</td>\n",
       "      <td>operating</td>\n",
       "      <td>2022.0</td>\n",
       "      <td>NaN</td>\n",
       "      <td>40.5321</td>\n",
       "      <td>-118.2720</td>\n",
       "      <td>Northern America</td>\n",
       "      <td>Americas</td>\n",
       "      <td>Geothermal Energy</td>\n",
       "    </tr>\n",
       "    <tr>\n",
       "      <th>139</th>\n",
       "      <td>United States</td>\n",
       "      <td>18.0</td>\n",
       "      <td>operating</td>\n",
       "      <td>2008.0</td>\n",
       "      <td>NaN</td>\n",
       "      <td>42.0994</td>\n",
       "      <td>-113.3825</td>\n",
       "      <td>Northern America</td>\n",
       "      <td>Americas</td>\n",
       "      <td>Geothermal Energy</td>\n",
       "    </tr>\n",
       "    <tr>\n",
       "      <th>502</th>\n",
       "      <td>Indonesia</td>\n",
       "      <td>50.0</td>\n",
       "      <td>operating</td>\n",
       "      <td>2022.0</td>\n",
       "      <td>NaN</td>\n",
       "      <td>0.7475</td>\n",
       "      <td>99.5751</td>\n",
       "      <td>South-eastern Asia</td>\n",
       "      <td>Asia</td>\n",
       "      <td>Geothermal Energy</td>\n",
       "    </tr>\n",
       "  </tbody>\n",
       "</table>\n",
       "</div>"
      ],
      "text/plain": [
       "           Country  Capacity_MW            Status  Start year  Retired year  \\\n",
       "216          Kenya        100.0  pre-construction         NaN           NaN   \n",
       "46          Canada         20.0         announced         NaN           NaN   \n",
       "165  United States          3.0         operating      2022.0           NaN   \n",
       "139  United States         18.0         operating      2008.0           NaN   \n",
       "502      Indonesia         50.0         operating      2022.0           NaN   \n",
       "\n",
       "     Latitude  Longitude           Subregion    Region        Energy Type  \n",
       "216    1.1689    36.1726  Sub-Saharan Africa    Africa  Geothermal Energy  \n",
       "46    49.1390  -102.9849    Northern America  Americas  Geothermal Energy  \n",
       "165   40.5321  -118.2720    Northern America  Americas  Geothermal Energy  \n",
       "139   42.0994  -113.3825    Northern America  Americas  Geothermal Energy  \n",
       "502    0.7475    99.5751  South-eastern Asia      Asia  Geothermal Energy  "
      ]
     },
     "execution_count": 76,
     "metadata": {},
     "output_type": "execute_result"
    }
   ],
   "source": [
    "Geoth_data.sample(5)"
   ]
  },
  {
   "cell_type": "markdown",
   "id": "4d3b917e",
   "metadata": {},
   "source": [
    "### **Hydropower Energy**"
   ]
  },
  {
   "cell_type": "code",
   "execution_count": 77,
   "id": "49b19396",
   "metadata": {},
   "outputs": [],
   "source": [
    "Hydro_data['Energy Type'] = 'Hydropower'"
   ]
  },
  {
   "cell_type": "code",
   "execution_count": 78,
   "id": "e7465370",
   "metadata": {},
   "outputs": [
    {
     "data": {
      "text/html": [
       "<div>\n",
       "<style scoped>\n",
       "    .dataframe tbody tr th:only-of-type {\n",
       "        vertical-align: middle;\n",
       "    }\n",
       "\n",
       "    .dataframe tbody tr th {\n",
       "        vertical-align: top;\n",
       "    }\n",
       "\n",
       "    .dataframe thead th {\n",
       "        text-align: right;\n",
       "    }\n",
       "</style>\n",
       "<table border=\"1\" class=\"dataframe\">\n",
       "  <thead>\n",
       "    <tr style=\"text-align: right;\">\n",
       "      <th></th>\n",
       "      <th>Country</th>\n",
       "      <th>Capacity_MW</th>\n",
       "      <th>Status</th>\n",
       "      <th>Start year</th>\n",
       "      <th>Retired year</th>\n",
       "      <th>Latitude</th>\n",
       "      <th>Longitude</th>\n",
       "      <th>Subregion</th>\n",
       "      <th>Region</th>\n",
       "      <th>Energy Type</th>\n",
       "    </tr>\n",
       "  </thead>\n",
       "  <tbody>\n",
       "    <tr>\n",
       "      <th>3623</th>\n",
       "      <td>Thailand</td>\n",
       "      <td>136</td>\n",
       "      <td>operating</td>\n",
       "      <td>1994.0</td>\n",
       "      <td>NaN</td>\n",
       "      <td>15.2826</td>\n",
       "      <td>105.4683</td>\n",
       "      <td>South-eastern Asia</td>\n",
       "      <td>Asia</td>\n",
       "      <td>Hydropower</td>\n",
       "    </tr>\n",
       "    <tr>\n",
       "      <th>911</th>\n",
       "      <td>China</td>\n",
       "      <td>223</td>\n",
       "      <td>operating</td>\n",
       "      <td>1968.0</td>\n",
       "      <td>NaN</td>\n",
       "      <td>41.2908</td>\n",
       "      <td>125.3952</td>\n",
       "      <td>Eastern Asia</td>\n",
       "      <td>Asia</td>\n",
       "      <td>Hydropower</td>\n",
       "    </tr>\n",
       "    <tr>\n",
       "      <th>3395</th>\n",
       "      <td>Spain</td>\n",
       "      <td>122</td>\n",
       "      <td>operating</td>\n",
       "      <td>NaN</td>\n",
       "      <td>NaN</td>\n",
       "      <td>39.2468</td>\n",
       "      <td>-1.0939</td>\n",
       "      <td>Southern Europe</td>\n",
       "      <td>Europe</td>\n",
       "      <td>Hydropower</td>\n",
       "    </tr>\n",
       "    <tr>\n",
       "      <th>2584</th>\n",
       "      <td>Malaysia</td>\n",
       "      <td>150</td>\n",
       "      <td>operating</td>\n",
       "      <td>1967.0</td>\n",
       "      <td>NaN</td>\n",
       "      <td>4.2310</td>\n",
       "      <td>101.3229</td>\n",
       "      <td>South-eastern Asia</td>\n",
       "      <td>Asia</td>\n",
       "      <td>Hydropower</td>\n",
       "    </tr>\n",
       "    <tr>\n",
       "      <th>2931</th>\n",
       "      <td>Norway</td>\n",
       "      <td>1240</td>\n",
       "      <td>operating</td>\n",
       "      <td>1981.0</td>\n",
       "      <td>NaN</td>\n",
       "      <td>59.5283</td>\n",
       "      <td>6.6544</td>\n",
       "      <td>Northern Europe</td>\n",
       "      <td>Europe</td>\n",
       "      <td>Hydropower</td>\n",
       "    </tr>\n",
       "  </tbody>\n",
       "</table>\n",
       "</div>"
      ],
      "text/plain": [
       "       Country  Capacity_MW     Status  Start year  Retired year  Latitude  \\\n",
       "3623  Thailand          136  operating      1994.0           NaN   15.2826   \n",
       "911      China          223  operating      1968.0           NaN   41.2908   \n",
       "3395     Spain          122  operating         NaN           NaN   39.2468   \n",
       "2584  Malaysia          150  operating      1967.0           NaN    4.2310   \n",
       "2931    Norway         1240  operating      1981.0           NaN   59.5283   \n",
       "\n",
       "      Longitude           Subregion  Region Energy Type  \n",
       "3623   105.4683  South-eastern Asia    Asia  Hydropower  \n",
       "911    125.3952        Eastern Asia    Asia  Hydropower  \n",
       "3395    -1.0939     Southern Europe  Europe  Hydropower  \n",
       "2584   101.3229  South-eastern Asia    Asia  Hydropower  \n",
       "2931     6.6544     Northern Europe  Europe  Hydropower  "
      ]
     },
     "execution_count": 78,
     "metadata": {},
     "output_type": "execute_result"
    }
   ],
   "source": [
    "Hydro_data.sample(5)"
   ]
  },
  {
   "cell_type": "markdown",
   "id": "0f1bb32b",
   "metadata": {},
   "source": [
    "### **Bioenergy**"
   ]
  },
  {
   "cell_type": "code",
   "execution_count": 79,
   "id": "424e390a",
   "metadata": {},
   "outputs": [],
   "source": [
    "Bioenergy_data['Energy Type'] = 'Bioenergy'"
   ]
  },
  {
   "cell_type": "code",
   "execution_count": 80,
   "id": "32dd9596",
   "metadata": {},
   "outputs": [
    {
     "data": {
      "text/html": [
       "<div>\n",
       "<style scoped>\n",
       "    .dataframe tbody tr th:only-of-type {\n",
       "        vertical-align: middle;\n",
       "    }\n",
       "\n",
       "    .dataframe tbody tr th {\n",
       "        vertical-align: top;\n",
       "    }\n",
       "\n",
       "    .dataframe thead th {\n",
       "        text-align: right;\n",
       "    }\n",
       "</style>\n",
       "<table border=\"1\" class=\"dataframe\">\n",
       "  <thead>\n",
       "    <tr style=\"text-align: right;\">\n",
       "      <th></th>\n",
       "      <th>Country</th>\n",
       "      <th>Capacity_MW</th>\n",
       "      <th>Status</th>\n",
       "      <th>Start year</th>\n",
       "      <th>Retired year</th>\n",
       "      <th>Latitude</th>\n",
       "      <th>Longitude</th>\n",
       "      <th>Subregion</th>\n",
       "      <th>Region</th>\n",
       "      <th>Energy Type</th>\n",
       "    </tr>\n",
       "  </thead>\n",
       "  <tbody>\n",
       "    <tr>\n",
       "      <th>583</th>\n",
       "      <td>China</td>\n",
       "      <td>7.5</td>\n",
       "      <td>operating</td>\n",
       "      <td>2013.0</td>\n",
       "      <td>NaN</td>\n",
       "      <td>29.292627</td>\n",
       "      <td>119.424830</td>\n",
       "      <td>Eastern Asia</td>\n",
       "      <td>Asia</td>\n",
       "      <td>Bioenergy</td>\n",
       "    </tr>\n",
       "    <tr>\n",
       "      <th>1949</th>\n",
       "      <td>India</td>\n",
       "      <td>30.0</td>\n",
       "      <td>pre-construction</td>\n",
       "      <td>NaN</td>\n",
       "      <td>NaN</td>\n",
       "      <td>12.955600</td>\n",
       "      <td>80.226900</td>\n",
       "      <td>Southern Asia</td>\n",
       "      <td>Asia</td>\n",
       "      <td>Bioenergy</td>\n",
       "    </tr>\n",
       "    <tr>\n",
       "      <th>803</th>\n",
       "      <td>Brazil</td>\n",
       "      <td>45.0</td>\n",
       "      <td>operating</td>\n",
       "      <td>2020.0</td>\n",
       "      <td>NaN</td>\n",
       "      <td>-21.343200</td>\n",
       "      <td>-47.155900</td>\n",
       "      <td>Latin America and the Caribbean</td>\n",
       "      <td>Americas</td>\n",
       "      <td>Bioenergy</td>\n",
       "    </tr>\n",
       "    <tr>\n",
       "      <th>250</th>\n",
       "      <td>China</td>\n",
       "      <td>15.0</td>\n",
       "      <td>operating</td>\n",
       "      <td>2019.0</td>\n",
       "      <td>NaN</td>\n",
       "      <td>34.036628</td>\n",
       "      <td>113.751992</td>\n",
       "      <td>Eastern Asia</td>\n",
       "      <td>Asia</td>\n",
       "      <td>Bioenergy</td>\n",
       "    </tr>\n",
       "    <tr>\n",
       "      <th>1808</th>\n",
       "      <td>United States</td>\n",
       "      <td>32.0</td>\n",
       "      <td>operating</td>\n",
       "      <td>1962.0</td>\n",
       "      <td>NaN</td>\n",
       "      <td>44.082000</td>\n",
       "      <td>-87.655800</td>\n",
       "      <td>Northern America</td>\n",
       "      <td>Americas</td>\n",
       "      <td>Bioenergy</td>\n",
       "    </tr>\n",
       "  </tbody>\n",
       "</table>\n",
       "</div>"
      ],
      "text/plain": [
       "            Country  Capacity_MW            Status  Start year  Retired year  \\\n",
       "583           China          7.5         operating      2013.0           NaN   \n",
       "1949          India         30.0  pre-construction         NaN           NaN   \n",
       "803          Brazil         45.0         operating      2020.0           NaN   \n",
       "250           China         15.0         operating      2019.0           NaN   \n",
       "1808  United States         32.0         operating      1962.0           NaN   \n",
       "\n",
       "       Latitude   Longitude                        Subregion    Region  \\\n",
       "583   29.292627  119.424830                     Eastern Asia      Asia   \n",
       "1949  12.955600   80.226900                    Southern Asia      Asia   \n",
       "803  -21.343200  -47.155900  Latin America and the Caribbean  Americas   \n",
       "250   34.036628  113.751992                     Eastern Asia      Asia   \n",
       "1808  44.082000  -87.655800                 Northern America  Americas   \n",
       "\n",
       "     Energy Type  \n",
       "583    Bioenergy  \n",
       "1949   Bioenergy  \n",
       "803    Bioenergy  \n",
       "250    Bioenergy  \n",
       "1808   Bioenergy  "
      ]
     },
     "execution_count": 80,
     "metadata": {},
     "output_type": "execute_result"
    }
   ],
   "source": [
    "Bioenergy_data.sample(5)"
   ]
  },
  {
   "cell_type": "markdown",
   "id": "88cf6334",
   "metadata": {},
   "source": [
    "## **<span style=\"font-size:25px; color:Green;\">Combining the datasets of the different renewable energies in one dataframe file</span>**"
   ]
  },
  {
   "cell_type": "code",
   "execution_count": 81,
   "id": "fb81d142",
   "metadata": {},
   "outputs": [],
   "source": [
    "# Combining the 5 dataframes\n",
    "Renewable_Energies = pd.concat([Solar_data, Wind_data, Hydro_data, Bioenergy_data, Geoth_data], axis=0, ignore_index=True)"
   ]
  },
  {
   "cell_type": "code",
   "execution_count": 82,
   "id": "f9120616",
   "metadata": {},
   "outputs": [
    {
     "data": {
      "text/html": [
       "<div>\n",
       "<style scoped>\n",
       "    .dataframe tbody tr th:only-of-type {\n",
       "        vertical-align: middle;\n",
       "    }\n",
       "\n",
       "    .dataframe tbody tr th {\n",
       "        vertical-align: top;\n",
       "    }\n",
       "\n",
       "    .dataframe thead th {\n",
       "        text-align: right;\n",
       "    }\n",
       "</style>\n",
       "<table border=\"1\" class=\"dataframe\">\n",
       "  <thead>\n",
       "    <tr style=\"text-align: right;\">\n",
       "      <th></th>\n",
       "      <th>Country</th>\n",
       "      <th>Capacity_MW</th>\n",
       "      <th>Status</th>\n",
       "      <th>Start year</th>\n",
       "      <th>Retired year</th>\n",
       "      <th>Latitude</th>\n",
       "      <th>Longitude</th>\n",
       "      <th>Subregion</th>\n",
       "      <th>Region</th>\n",
       "      <th>Energy Type</th>\n",
       "    </tr>\n",
       "  </thead>\n",
       "  <tbody>\n",
       "    <tr>\n",
       "      <th>66889</th>\n",
       "      <td>Germany</td>\n",
       "      <td>13.0</td>\n",
       "      <td>operating</td>\n",
       "      <td>2018.0</td>\n",
       "      <td>NaN</td>\n",
       "      <td>50.667000</td>\n",
       "      <td>6.178800</td>\n",
       "      <td>Western Europe</td>\n",
       "      <td>Europe</td>\n",
       "      <td>Wind Energy</td>\n",
       "    </tr>\n",
       "    <tr>\n",
       "      <th>89248</th>\n",
       "      <td>Türkiye</td>\n",
       "      <td>66.0</td>\n",
       "      <td>operating</td>\n",
       "      <td>2018.0</td>\n",
       "      <td>NaN</td>\n",
       "      <td>37.949884</td>\n",
       "      <td>28.843215</td>\n",
       "      <td>Western Asia</td>\n",
       "      <td>Asia</td>\n",
       "      <td>Geothermal Energy</td>\n",
       "    </tr>\n",
       "    <tr>\n",
       "      <th>78479</th>\n",
       "      <td>United Kingdom</td>\n",
       "      <td>12.3</td>\n",
       "      <td>pre-construction</td>\n",
       "      <td>NaN</td>\n",
       "      <td>NaN</td>\n",
       "      <td>56.309800</td>\n",
       "      <td>-2.725000</td>\n",
       "      <td>Northern Europe</td>\n",
       "      <td>Europe</td>\n",
       "      <td>Wind Energy</td>\n",
       "    </tr>\n",
       "    <tr>\n",
       "      <th>51952</th>\n",
       "      <td>Zimbabwe</td>\n",
       "      <td>70.0</td>\n",
       "      <td>announced</td>\n",
       "      <td>NaN</td>\n",
       "      <td>NaN</td>\n",
       "      <td>-17.882200</td>\n",
       "      <td>30.667500</td>\n",
       "      <td>Sub-Saharan Africa</td>\n",
       "      <td>Africa</td>\n",
       "      <td>Solar Energy</td>\n",
       "    </tr>\n",
       "    <tr>\n",
       "      <th>53911</th>\n",
       "      <td>Brazil</td>\n",
       "      <td>32.0</td>\n",
       "      <td>operating</td>\n",
       "      <td>2017.0</td>\n",
       "      <td>NaN</td>\n",
       "      <td>-6.842700</td>\n",
       "      <td>-36.791800</td>\n",
       "      <td>Latin America and the Caribbean</td>\n",
       "      <td>Americas</td>\n",
       "      <td>Wind Energy</td>\n",
       "    </tr>\n",
       "  </tbody>\n",
       "</table>\n",
       "</div>"
      ],
      "text/plain": [
       "              Country  Capacity_MW            Status  Start year  \\\n",
       "66889         Germany         13.0         operating      2018.0   \n",
       "89248         Türkiye         66.0         operating      2018.0   \n",
       "78479  United Kingdom         12.3  pre-construction         NaN   \n",
       "51952        Zimbabwe         70.0         announced         NaN   \n",
       "53911          Brazil         32.0         operating      2017.0   \n",
       "\n",
       "       Retired year   Latitude  Longitude                        Subregion  \\\n",
       "66889           NaN  50.667000   6.178800                   Western Europe   \n",
       "89248           NaN  37.949884  28.843215                     Western Asia   \n",
       "78479           NaN  56.309800  -2.725000                  Northern Europe   \n",
       "51952           NaN -17.882200  30.667500               Sub-Saharan Africa   \n",
       "53911           NaN  -6.842700 -36.791800  Latin America and the Caribbean   \n",
       "\n",
       "         Region        Energy Type  \n",
       "66889    Europe        Wind Energy  \n",
       "89248      Asia  Geothermal Energy  \n",
       "78479    Europe        Wind Energy  \n",
       "51952    Africa       Solar Energy  \n",
       "53911  Americas        Wind Energy  "
      ]
     },
     "execution_count": 82,
     "metadata": {},
     "output_type": "execute_result"
    }
   ],
   "source": [
    "# Sample of 5 entries\n",
    "Renewable_Energies.sample(5)"
   ]
  },
  {
   "cell_type": "code",
   "execution_count": 83,
   "id": "944f87c7",
   "metadata": {},
   "outputs": [
    {
     "data": {
      "text/html": [
       "<div>\n",
       "<style scoped>\n",
       "    .dataframe tbody tr th:only-of-type {\n",
       "        vertical-align: middle;\n",
       "    }\n",
       "\n",
       "    .dataframe tbody tr th {\n",
       "        vertical-align: top;\n",
       "    }\n",
       "\n",
       "    .dataframe thead th {\n",
       "        text-align: right;\n",
       "    }\n",
       "</style>\n",
       "<table border=\"1\" class=\"dataframe\">\n",
       "  <thead>\n",
       "    <tr style=\"text-align: right;\">\n",
       "      <th></th>\n",
       "      <th>Country</th>\n",
       "      <th>Capacity_MW</th>\n",
       "      <th>Status</th>\n",
       "      <th>Start year</th>\n",
       "      <th>Retired year</th>\n",
       "      <th>Latitude</th>\n",
       "      <th>Longitude</th>\n",
       "      <th>Subregion</th>\n",
       "      <th>Region</th>\n",
       "      <th>Energy Type</th>\n",
       "    </tr>\n",
       "  </thead>\n",
       "  <tbody>\n",
       "    <tr>\n",
       "      <th>89412</th>\n",
       "      <td>United States</td>\n",
       "      <td>138.0</td>\n",
       "      <td>operating</td>\n",
       "      <td>1980.0</td>\n",
       "      <td>NaN</td>\n",
       "      <td>38.777000</td>\n",
       "      <td>-122.745000</td>\n",
       "      <td>Northern America</td>\n",
       "      <td>Americas</td>\n",
       "      <td>Geothermal Energy</td>\n",
       "    </tr>\n",
       "    <tr>\n",
       "      <th>89413</th>\n",
       "      <td>United States</td>\n",
       "      <td>140.0</td>\n",
       "      <td>pre-construction</td>\n",
       "      <td>NaN</td>\n",
       "      <td>NaN</td>\n",
       "      <td>33.180362</td>\n",
       "      <td>-115.601597</td>\n",
       "      <td>Northern America</td>\n",
       "      <td>Americas</td>\n",
       "      <td>Geothermal Energy</td>\n",
       "    </tr>\n",
       "    <tr>\n",
       "      <th>89414</th>\n",
       "      <td>United States</td>\n",
       "      <td>140.0</td>\n",
       "      <td>pre-construction</td>\n",
       "      <td>NaN</td>\n",
       "      <td>NaN</td>\n",
       "      <td>33.202396</td>\n",
       "      <td>-115.583904</td>\n",
       "      <td>Northern America</td>\n",
       "      <td>Americas</td>\n",
       "      <td>Geothermal Energy</td>\n",
       "    </tr>\n",
       "    <tr>\n",
       "      <th>89415</th>\n",
       "      <td>United States</td>\n",
       "      <td>300.0</td>\n",
       "      <td>pre-construction</td>\n",
       "      <td>2028.0</td>\n",
       "      <td>NaN</td>\n",
       "      <td>38.469387</td>\n",
       "      <td>-112.927611</td>\n",
       "      <td>Northern America</td>\n",
       "      <td>Americas</td>\n",
       "      <td>Geothermal Energy</td>\n",
       "    </tr>\n",
       "    <tr>\n",
       "      <th>89416</th>\n",
       "      <td>United States</td>\n",
       "      <td>395.0</td>\n",
       "      <td>announced</td>\n",
       "      <td>NaN</td>\n",
       "      <td>NaN</td>\n",
       "      <td>40.595300</td>\n",
       "      <td>-104.600800</td>\n",
       "      <td>Northern America</td>\n",
       "      <td>Americas</td>\n",
       "      <td>Geothermal Energy</td>\n",
       "    </tr>\n",
       "  </tbody>\n",
       "</table>\n",
       "</div>"
      ],
      "text/plain": [
       "             Country  Capacity_MW            Status  Start year  Retired year  \\\n",
       "89412  United States        138.0         operating      1980.0           NaN   \n",
       "89413  United States        140.0  pre-construction         NaN           NaN   \n",
       "89414  United States        140.0  pre-construction         NaN           NaN   \n",
       "89415  United States        300.0  pre-construction      2028.0           NaN   \n",
       "89416  United States        395.0         announced         NaN           NaN   \n",
       "\n",
       "        Latitude   Longitude         Subregion    Region        Energy Type  \n",
       "89412  38.777000 -122.745000  Northern America  Americas  Geothermal Energy  \n",
       "89413  33.180362 -115.601597  Northern America  Americas  Geothermal Energy  \n",
       "89414  33.202396 -115.583904  Northern America  Americas  Geothermal Energy  \n",
       "89415  38.469387 -112.927611  Northern America  Americas  Geothermal Energy  \n",
       "89416  40.595300 -104.600800  Northern America  Americas  Geothermal Energy  "
      ]
     },
     "execution_count": 83,
     "metadata": {},
     "output_type": "execute_result"
    }
   ],
   "source": [
    "# Display the 5 last rows\n",
    "Renewable_Energies.tail()"
   ]
  },
  {
   "cell_type": "markdown",
   "id": "c2d42269",
   "metadata": {},
   "source": [
    "**Understand the shape of the dataset**"
   ]
  },
  {
   "cell_type": "code",
   "execution_count": 84,
   "id": "b9e2b27c",
   "metadata": {},
   "outputs": [
    {
     "data": {
      "text/plain": [
       "(89417, 10)"
      ]
     },
     "execution_count": 84,
     "metadata": {},
     "output_type": "execute_result"
    }
   ],
   "source": [
    "Renewable_Energies.shape"
   ]
  },
  {
   "cell_type": "markdown",
   "id": "52803197",
   "metadata": {},
   "source": [
    "**There are 89417 rows and 10 columns in the dataset.**"
   ]
  },
  {
   "cell_type": "markdown",
   "id": "c351e92d",
   "metadata": {},
   "source": [
    "**Check the data types of the columns for the dataset**"
   ]
  },
  {
   "cell_type": "code",
   "execution_count": 85,
   "id": "cb778777",
   "metadata": {},
   "outputs": [
    {
     "name": "stdout",
     "output_type": "stream",
     "text": [
      "<class 'pandas.core.frame.DataFrame'>\n",
      "RangeIndex: 89417 entries, 0 to 89416\n",
      "Data columns (total 10 columns):\n",
      " #   Column        Non-Null Count  Dtype  \n",
      "---  ------        --------------  -----  \n",
      " 0   Country       89417 non-null  object \n",
      " 1   Capacity_MW   89417 non-null  float64\n",
      " 2   Status        89417 non-null  object \n",
      " 3   Start year    57717 non-null  float64\n",
      " 4   Retired year  432 non-null    float64\n",
      " 5   Latitude      89415 non-null  float64\n",
      " 6   Longitude     89414 non-null  float64\n",
      " 7   Subregion     89417 non-null  object \n",
      " 8   Region        89417 non-null  object \n",
      " 9   Energy Type   89417 non-null  object \n",
      "dtypes: float64(5), object(5)\n",
      "memory usage: 6.8+ MB\n"
     ]
    }
   ],
   "source": [
    "Renewable_Energies.info()"
   ]
  },
  {
   "cell_type": "markdown",
   "id": "97b292da",
   "metadata": {},
   "source": [
    "#### **Observations:**\n",
    "\n",
    "- Capacity_MW, Start year, Retired year, Latitude, and Longitude are of **numeric data type** and the rest of the columns are of **object data type**.\n",
    "- The number of non-null values is not the same as the total number of entries in the data, i.e., **there are null values.**"
   ]
  },
  {
   "cell_type": "code",
   "execution_count": 86,
   "id": "10e6154b",
   "metadata": {},
   "outputs": [],
   "source": [
    "# Rename the columns of Renewable_Energies dataframe\n",
    "Renewable_Energies.rename(columns={'Start year': 'Start_year', 'Retired year': 'Retired_year',\n",
    "                       'Energy Type': 'Energy_Type'}, inplace=True)"
   ]
  },
  {
   "cell_type": "markdown",
   "id": "1d6a03e4-4a6d-4369-84ff-7bb392d137b6",
   "metadata": {},
   "source": [
    "## **<span style=\"font-size:25px; color:Green;\">Exploratory Data Analysis (EDA)</span>**"
   ]
  },
  {
   "cell_type": "markdown",
   "id": "a69bab6b-4d51-4735-b1e5-9c1348e295f1",
   "metadata": {},
   "source": [
    "### **Percentage of each energy type based on the Energy Type count**"
   ]
  },
  {
   "cell_type": "code",
   "execution_count": 93,
   "id": "0e03d9b4-d06e-42cc-bf6b-b83aedb5f6b9",
   "metadata": {},
   "outputs": [
    {
     "data": {
      "image/png": "[encoded data removed]",
      "text/plain": [
       "<Figure size 800x600 with 1 Axes>"
      ]
     },
     "metadata": {},
     "output_type": "display_data"
    }
   ],
   "source": [
    "# Step 1: Count energy type occurrences\n",
    "energy_counts = Renewable_Energies['Energy_Type'].value_counts()\n",
    "\n",
    "# Step 2: Convert to percentage\n",
    "energy_percentages = (energy_counts / energy_counts.sum()) * 100\n",
    "\n",
    "# Step 3: Plot as a pie chart\n",
    "plt.figure(figsize=(8, 6))\n",
    "plt.pie(energy_percentages, labels=energy_percentages.index, autopct='%1.1f%%', startangle=160)\n",
    "plt.title('Percentage Distribution of Renewable Energy Types')\n",
    "plt.axis('equal')  # Ensures pie is drawn as a circle\n",
    "plt.show()"
   ]
  },
  {
   "cell_type": "markdown",
   "id": "28eaca66-a058-476b-8abc-b107bbaba1a4",
   "metadata": {},
   "source": [
    "#### **Interpretation:**\n",
    "* **Solar Energy dominates** the dataset, representing over **58%** of all projects. This reflects the global boom in solar installations due to falling costs and ease of deployment.\n",
    "* **Wind Energy** follows with around **34%**, showing its strong presence, especially in regions with suitable wind conditions.\n",
    "* **Hydropower**, **Bioenergy**, and **Geothermal** are **less represented**, possibly due to geographical limitations or higher capital requirements."
   ]
  },
  {
   "cell_type": "markdown",
   "id": "059d84f2-6959-4f97-9995-3b18e76ccdfc",
   "metadata": {},
   "source": [
    "### **Percentage of each energy type weighted by total capacity (MW)**"
   ]
  },
  {
   "cell_type": "markdown",
   "id": "00f3fcbe-2c11-48c5-adcf-a511b3327311",
   "metadata": {},
   "source": [
    "#### **Compute the share of each renewable energy type in terms of installed capacity (MW)**"
   ]
  },
  {
   "cell_type": "code",
   "execution_count": 116,
   "id": "90a72c86-0062-4285-a6fb-9425757c69c5",
   "metadata": {},
   "outputs": [
    {
     "name": "stdout",
     "output_type": "stream",
     "text": [
      "Energy_Type\n",
      "Wind Energy          41.02\n",
      "Solar Energy         30.32\n",
      "Hydropower           27.05\n",
      "Bioenergy             1.26\n",
      "Geothermal Energy     0.35\n",
      "Name: Capacity_MW, dtype: float64\n"
     ]
    }
   ],
   "source": [
    "# Step 1: Group by Energy_Type and sum Capacity\n",
    "capacity_by_type = Renewable_Energies.groupby('Energy_Type')['Capacity_MW'].sum()\n",
    "\n",
    "# Step 2: Calculate total capacity\n",
    "total_capacity = capacity_by_type.sum()\n",
    "\n",
    "# Step 3: Calculate percentage share\n",
    "percentage_by_type = (capacity_by_type / total_capacity) * 100\n",
    "\n",
    "# Step 4: Display\n",
    "percentage_by_type = percentage_by_type.sort_values(ascending=False).round(2)\n",
    "print(percentage_by_type)"
   ]
  },
  {
   "cell_type": "markdown",
   "id": "9f19f030-8c45-442a-b22f-c6b9fc4e994b",
   "metadata": {},
   "source": [
    "#### **Visualization of capacity-weighted share of each energy type**"
   ]
  },
  {
   "cell_type": "code",
   "execution_count": 119,
   "id": "8e55736c-4544-49b0-a054-ae3a55da96e9",
   "metadata": {},
   "outputs": [
    {
     "data": {
      "image/png": "[encoded data removed]",
      "text/plain": [
       "<Figure size 640x480 with 1 Axes>"
      ]
     },
     "metadata": {},
     "output_type": "display_data"
    }
   ],
   "source": [
    "# Bar plot\n",
    "# Define colors for consistency\n",
    "colors = ['#FDB813', '#00A6D6', '#007849', '#8B5E3C', '#D94F4F']\n",
    "\n",
    "# Create the plot\n",
    "ax = percentage_by_type.plot(kind='bar', color=colors)\n",
    "\n",
    "# Add percentage labels on top of each bar\n",
    "for i, value in enumerate(percentage_by_type):\n",
    "    plt.text(i, value + 0.5, f'{value:.1f}%', ha='center', va='bottom', fontsize=10)\n",
    "\n",
    "# Add labels and formatting\n",
    "plt.title(\"Global Share of Renewable Energy Capacity by Type (%)\", fontsize=14)\n",
    "plt.ylabel(\"Percentage (%)\")\n",
    "plt.xlabel(\"Energy Type\")\n",
    "plt.xticks(rotation=45, ha='right')\n",
    "plt.grid(axis='y', linestyle='--', alpha=0.7)\n",
    "plt.tight_layout()\n",
    "\n",
    "# Show plot\n",
    "plt.show()"
   ]
  },
  {
   "cell_type": "markdown",
   "id": "f8bb464b-5751-4648-90cf-4bc69e7c4b75",
   "metadata": {},
   "source": [
    "### **Interpretation: Weighted by Capacity vs. Count of Projects**"
   ]
  },
  {
   "cell_type": "markdown",
   "id": "1e0f3010-4a3a-4fcc-b083-c6a596d27f7d",
   "metadata": {},
   "source": [
    "#### **1. Capacity-Weighted Distribution (MW)**\n",
    "When weighting by installed capacity (MW), we're measuring how much actual renewable energy power potential comes from each energy type.\n",
    "* **Solar Energy: 41.0%**\t—— Most installed MWs.\n",
    "* **Wind Energy: 33.3%** —— Large utility-scale.\n",
    "* **Hydropower: 27.1%** —— Fewer but massive dams.\n",
    "* **Bioenergy: 1.3%**\t—— Industrial-scale only.\n",
    "* **Geothermal Energy:\t0.3%** —— Niche, site-dependent.\n",
    "\n",
    "**Interpretation:**\n",
    "* A **smaller number of large-scale projects** (like utility-scale solar farms or large hydroelectric dams) can contribute **most of the global renewable capacity**.\n",
    "* This view highlights the **true energy impact**, not just how many projects exist."
   ]
  },
  {
   "cell_type": "markdown",
   "id": "760f8b46-4663-4ad1-842f-c86b031b895a",
   "metadata": {},
   "source": [
    "#### **2. Unweighted Distribution (Number of Projects)**\n",
    "When just counting the number of projects, we are measuring deployment frequency, not impact.\n",
    "\n",
    "* **Solar Energy: 58.1%** ——\tMany small-scale.\n",
    "* **Wind Energy: 33.5%**\t—— Fewer than solar.\n",
    "* **Hydropower:\t5.0%**\t—— Large, but rare.\n",
    "* **Bioenergy:\t2.8%**\t—— More scattered plants.\n",
    "* **Geothermal Energy: 0.6%** —— Rare projects.\n",
    "\n",
    "**Interpretation:**\n",
    "* **Solar dominates** by project count because it includes **many small or rooftop installations**, not necessarily large in capacity.\n",
    "* **Wind** and **Hydro** might be underrepresented in count but **dominate in capacity** due to **larger average project size**."
   ]
  },
  {
   "cell_type": "markdown",
   "id": "4ca719b3-77c9-43b2-b748-e5cdf951e4ab",
   "metadata": {},
   "source": [
    "#### **3. Key Takeaways & Comparison**\n",
    "|       Aspect           |            Count of Projects            | Weighted by Capacity (MW)                  |\n",
    "|------------------------|-----------------------------------------|--------------------------------------------|\n",
    "| Measures               | Project frequency                       | Actual energy potential/output             |\n",
    "| Highlighted Types      | Solar (due to many small installations) | Solar & Wind (due to large-scale farms)    |\n",
    "| Underrepresented Types | Hydro & Wind (fewer projects)           | Bio & Geothermal (lower capacity)          |\n",
    "| Best Used For          | Deployment trends, market activity      | Energy planning, investment prioritization |"
   ]
  },
  {
   "cell_type": "markdown",
   "id": "eda4394e-310a-4583-acc1-ab17e320be29",
   "metadata": {},
   "source": [
    "#### **Aggregate Capacity by Region and Country**"
   ]
  },
  {
   "cell_type": "code",
   "execution_count": 96,
   "id": "66db975b-4752-4ee2-aea4-bd9ce33dd268",
   "metadata": {},
   "outputs": [],
   "source": [
    "# Renewable_Energies DataFrame\n",
    "# Columns: 'Region', 'Country', 'Energy_Type', 'Capacity_MW'\n",
    "\n",
    "# Step 1: Group by Region and Country, summing the capacity\n",
    "region_country_capacity = Renewable_Energies.groupby(['Region', 'Country'])['Capacity_MW'].sum().reset_index()\n",
    "\n",
    "# Optional: Sort values within each region for easy filtering later\n",
    "region_country_capacity = region_country_capacity.sort_values(['Region', 'Capacity_MW'], ascending=[True, False])"
   ]
  },
  {
   "cell_type": "markdown",
   "id": "c0f97d2f-6079-45e6-94d8-a36c879cc11e",
   "metadata": {},
   "source": [
    "#### **Get Top N Countries Per Region**"
   ]
  },
  {
   "cell_type": "code",
   "execution_count": 99,
   "id": "dea35edd-fb46-4055-a1bb-d8bc1cf8050d",
   "metadata": {},
   "outputs": [],
   "source": [
    "# Define how many top countries you want per region\n",
    "N = 5\n",
    "\n",
    "# Get top N countries by capacity per region\n",
    "top_countries_per_region = (\n",
    "    region_country_capacity\n",
    "    .groupby('Region')\n",
    "    .head(N)\n",
    ")"
   ]
  },
  {
   "cell_type": "markdown",
   "id": "2ac18eb2-552d-46a9-bc39-1819331bbaba",
   "metadata": {},
   "source": [
    "#### **Visualize the Top Countries by Capacity**"
   ]
  },
  {
   "cell_type": "code",
   "execution_count": 100,
   "id": "af73e02d-b7da-4084-8ffe-ce44711f5d1c",
   "metadata": {},
   "outputs": [
    {
     "data": {
      "image/png": "[encoded data removed]",
      "text/plain": [
       "<Figure size 1400x800 with 1 Axes>"
      ]
     },
     "metadata": {},
     "output_type": "display_data"
    }
   ],
   "source": [
    "# Plot using seaborn\n",
    "plt.figure(figsize=(14, 8))\n",
    "sns.barplot(\n",
    "    data=top_countries_per_region,\n",
    "    x='Capacity_MW',\n",
    "    y='Country',\n",
    "    hue='Region',\n",
    "    dodge=False\n",
    ")\n",
    "\n",
    "plt.title(f'Top {N} Countries by Renewable Energy Capacity (MW) per Region')\n",
    "plt.xlabel('Total Capacity (MW)')\n",
    "plt.ylabel('Country')\n",
    "plt.legend(title='Region', bbox_to_anchor=(1.05, 1), loc='upper left')\n",
    "plt.tight_layout()\n",
    "plt.show()"
   ]
  },
  {
   "cell_type": "markdown",
   "id": "904b6c6a-9b23-41b6-8053-f97f1d85a165",
   "metadata": {},
   "source": [
    "### **Interpretation and Comments**"
   ]
  },
  {
   "cell_type": "markdown",
   "id": "ba9e2fbc-52e2-4795-bb8e-f717223d3886",
   "metadata": {},
   "source": [
    "#### **Global Trends**\n",
    "* **Solar Energy** dominates in many Asian countries (e.g., **China, India, Vietnam**), due to falling panel costs and large land availability.\n",
    "* **Wind Energy** is especially prominent in **USA**, **Germany**, and **UK**, supported by strong wind corridors and offshore investments.\n",
    "* **Hydropower** still plays a critical role in countries like **Brazil**, **Canada**, and **Sweden**, leveraging natural water resources.\n",
    "* **Geothermal** and **Bioenergy** are niche but strategically used in countries like **Philippines**, **Japan**, and **New Zealand**."
   ]
  },
  {
   "cell_type": "markdown",
   "id": "c1d2268f-e3da-4606-bf7c-805ae973bc01",
   "metadata": {},
   "source": [
    "#### **Regional Highlights**\n",
    "**Asia**\n",
    "* **China** alone surpasses all other countries, heavily investing in **Solar** and **Wind**.\n",
    "* **India** and **Vietnam** follow similar trends, with solar as their main driver.\n",
    "\n",
    "**Europe**\n",
    "* A more **balanced energy mix**, with **Wind**, **Hydro**, and **Solar** sharing capacity.\n",
    "* Countries like **UK** and **Germany** show strong offshore and onshore **Wind** usage.\n",
    "\n",
    "**Americas**\n",
    "* **USA** leads with both **Wind** and **Solar**, while **Brazil** relies on **Hydropower** due to abundant rivers.\n",
    "* **Mexico** and **Chile** show increasing **Solar capacity** in desert areas.\n",
    "\n",
    "**Africa**\n",
    "* **Egypt** and **Morocco** are leaders in **solar capacity** (e.g., projects in the Sahara).\n",
    "* **Ethiopia** still relies on **Hydropower**, while others are diversifying.\n",
    "\n",
    "**Oceania**\n",
    "* **Australia** shows strong **Solar growth** due to its climate and rooftop initiatives.\n",
    "* Smaller countries (e.g., **New Caledonia**, **Guam**) have minor capacity but are adopting **solar** microgrids."
   ]
  },
  {
   "cell_type": "markdown",
   "id": "6f4f57d2",
   "metadata": {},
   "source": [
    "## **<span style=\"font-size:25px; color:Green;\">Save dataframe as csv file to be exported as a data source for Tableau analysis</span>**"
   ]
  },
  {
   "cell_type": "code",
   "execution_count": 197,
   "id": "fe7699e6",
   "metadata": {},
   "outputs": [],
   "source": [
    "# Export the dataframe as a csv file\n",
    "Renewable_Energies.to_csv('C:/Disc D/DataScienceTraining/Energy_database/Renewable_Energies.csv', index=False)"
   ]
  },
  {
   "cell_type": "code",
   "execution_count": 198,
   "id": "ae77af0a",
   "metadata": {},
   "outputs": [],
   "source": [
    "# Export the dataframe as an excel file\n",
    "Renewable_Energies.to_excel('C:/Disc D/DataScienceTraining/Energy_database/Renewable_Energies.xlsx', index=False)"
   ]
  },
  {
   "cell_type": "markdown",
   "id": "fa1fd704-d8f4-467b-aaae-b4b960bb9d5d",
   "metadata": {},
   "source": [
    "## **<span style=\"font-size:25px; color:Green;\">Conclusion</span>**\n",
    "**In this session, we conducted a thorough cleaning and processing of the global renewable energy datasets sourced from the International Energy Agency and the Global Energy Monitor (June 2024 release). Our objective was to transform raw project-level data into a structured and analysis-ready format suitable for visualization in Tableau.**\n",
    "\n",
    "#### **Key steps included:**\n",
    "* **Standardizing and validating columns such as country names, energy types, project status, and capacity values.**\n",
    "* **Filtering relevant features like 'Region', 'Country', 'Energy_Type', and 'Capacity_MW' to focus the analysis on key geographical and technological dimensions.**\n",
    "* **Aggregating data by region and country to compute capacity-weighted statistics, which better reflect the true impact of different energy types beyond mere project counts.**\n",
    "* **Identifying top countries per region based on total installed renewable capacity, enabling focused comparative analysis.**\n",
    "* **Preparing summary tables (e.g., total capacity per energy type and region) and formatted data for stacked bar charts and Tableau dashboards.**\n",
    "\n",
    "**This cleaned and aggregated dataset now provides a reliable foundation for insightful and visually engaging Tableau dashboards that illustrate the global distribution, trends, and dominance of various renewable energy technologies.**"
   ]
  },
  {
   "cell_type": "code",
   "execution_count": null,
   "id": "23cdca64-a114-4b03-affc-4d9eb09951e0",
   "metadata": {},
   "outputs": [],
   "source": []
  }
 ],
 "metadata": {
  "colab": {
   "provenance": []
  },
  "kernelspec": {
   "display_name": "Python 3 (ipykernel)",
   "language": "python",
   "name": "python3"
  },
  "language_info": {
   "codemirror_mode": {
    "name": "ipython",
    "version": 3
   },
   "file_extension": ".py",
   "mimetype": "text/x-python",
   "name": "python",
   "nbconvert_exporter": "python",
   "pygments_lexer": "ipython3",
   "version": "3.12.3"
  }
 },
 "nbformat": 4,
 "nbformat_minor": 5
}
